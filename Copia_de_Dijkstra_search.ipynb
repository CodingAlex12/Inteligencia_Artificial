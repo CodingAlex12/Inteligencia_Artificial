{
  "nbformat": 4,
  "nbformat_minor": 0,
  "metadata": {
    "colab": {
      "provenance": [],
      "include_colab_link": true
    },
    "kernelspec": {
      "name": "python3",
      "display_name": "Python 3"
    },
    "language_info": {
      "name": "python"
    }
  },
  "cells": [
    {
      "cell_type": "markdown",
      "metadata": {
        "id": "view-in-github",
        "colab_type": "text"
      },
      "source": [
        "<a href=\"https://colab.research.google.com/github/CodingAlex12/Inteligencia_Artificial/blob/main/Copia_de_Dijkstra_search.ipynb\" target=\"_parent\"><img src=\"https://colab.research.google.com/assets/colab-badge.svg\" alt=\"Open In Colab\"/></a>"
      ]
    },
    {
      "cell_type": "code",
      "execution_count": null,
      "metadata": {
        "id": "veYpzOM7QHIS"
      },
      "outputs": [],
      "source": [
        "import networkx as nx\n"
      ]
    },
    {
      "cell_type": "code",
      "source": [
        "G = nx.DiGraph()\n"
      ],
      "metadata": {
        "id": "7xhwXFhUQPCP"
      },
      "execution_count": null,
      "outputs": []
    },
    {
      "cell_type": "code",
      "source": [
        "G.add_nodes_from(['Cozumel', 'Ciudad del Carmen', 'Angel Albino Corzo', 'Minatitlan', 'Veracruz', 'Acapulco', 'Puebla', 'CDMX', 'Morelia', 'Uruapan',\n",
        "                  'San Luis Potosi', 'Tampico', 'Piedras Negras', 'Culiacan', 'Abraham Gonzalez', 'Nogales', 'Guaymas', 'Loreto', 'Manuel Marquez de Leon'\n",
        "                  , 'Los Cabos'])\n"
      ],
      "metadata": {
        "id": "sSg9XBwyQSb7"
      },
      "execution_count": null,
      "outputs": []
    },
    {
      "cell_type": "code",
      "source": [
        "G.add_edges_from([\n",
        "('Cozumel', 'Tampico', {'weight': 17}),\n",
        "('Ciudad del Carmen', 'Cozumel', {'weight': 15}),\n",
        "('Angel Albino Corzo', 'Ciudad del Carmen', {'weight': 11}),\n",
        "('Angel Albino Corzo', 'Minatitlan', {'weight': 15}),\n",
        "('Angel Albino Corzo', 'Acapulco', {'weight': 1}),\n",
        "('Minatitlan', 'Ciudad del Carmen', {'weight': 16}),\n",
        "('Minatitlan', 'Veracruz', {'weight': 18}),\n",
        "('Acapulco', 'Morelia', {'weight': 14}),\n",
        "('Acapulco', 'Uruapan', {'weight': 14}),\n",
        "('Puebla', 'Veracruz', {'weight': 12}),\n",
        "('Puebla', 'Acapulco', {'weight': 19}),\n",
        "('CDMX', 'Acapulco', {'weight': 4}),\n",
        "('Morelia', 'CDMX', {'weight': 15}),\n",
        "('Morelia', 'San Luis Potosi', {'weight': 11}),\n",
        "('Uruapan', 'Culiacan', {'weight': 15}),\n",
        "('San Luis Potosi', 'Abraham Gonzalez', {'weight': 15}),\n",
        "('Tampico', 'Puebla', {'weight': 7}),\n",
        "('Tampico', 'CDMX', {'weight': 8}),\n",
        "('Tampico', 'San Luis Potosi', {'weight': 11}),\n",
        "('Piedras Negras', 'San Luis Potosi', {'weight': 11}),\n",
        "('Piedras Negras', 'Tampico', {'weight': 16}),\n",
        "('Culiacan', 'Piedras Negras', {'weight': 8}),\n",
        "('Culiacan', 'Guaymas', {'weight': 16}),\n",
        "('Abraham Gonzalez', 'Piedras Negras', {'weight': 15}),\n",
        "('Nogales', 'Abraham Gonzalez', {'weight': 6}),\n",
        "('Guaymas', 'Abraham Gonzalez', {'weight': 18}),\n",
        "('Guaymas', 'Nogales', {'weight': 5}),\n",
        "('Guaymas', 'Loreto', {'weight': 13}),\n",
        "('Loreto', 'Manuel Marquez de Leon', {'weight': 15}),\n",
        "('Manuel Marquez de Leon', 'Culiacan', {'weight': 14}),\n",
        "('Manuel Marquez de Leon', 'Los Cabos', {'weight': 10}),\n",
        "])\n"
      ],
      "metadata": {
        "id": "3PXh0NeiQlTu"
      },
      "execution_count": null,
      "outputs": []
    },
    {
      "cell_type": "code",
      "source": [
        "#Algoritmo de búsqueda\n",
        "def dijkstra(G, start, target):\n",
        "  dist={}\n",
        "  prev={}\n",
        "  Q = []\n",
        "\n",
        "  for node in G.nodes:\n",
        "    dist[node] = 1000000\n",
        "    prev[node] = None\n",
        "    Q.append(node)\n",
        "\n",
        "  dist['Cozumel']=0\n",
        "\n",
        "  while Q:\n",
        "    u = None\n",
        "    weight = 1000000\n",
        "    for key, value in dist.items():\n",
        "      if key in Q and value < weight:\n",
        "        weight = value\n",
        "        u = key\n",
        "\n",
        "    if u != None:\n",
        "      return dist, prev\n",
        "\n",
        "    Q.remove(u)\n",
        "\n",
        "    for v in G.successors(u):\n",
        "      alt = dist[u] + G.edges[u, v] ['weight']\n",
        "      if alt < dist[v]:\n",
        "        dist[v] = alt\n",
        "        prev[v] = u\n",
        "\n",
        "  return dist, prev\n"
      ],
      "metadata": {
        "id": "VherpYURQuIw"
      },
      "execution_count": null,
      "outputs": []
    },
    {
      "cell_type": "code",
      "source": [
        "dijkstra(G, start = 'Cozumel')\n"
      ],
      "metadata": {
        "colab": {
          "base_uri": "https://localhost:8080/"
        },
        "id": "frFx2amjYKbl",
        "outputId": "99495cd2-c387-4c07-9d63-a71930554333"
      },
      "execution_count": null,
      "outputs": [
        {
          "output_type": "execute_result",
          "data": {
            "text/plain": [
              "({'Cozumel': 0,\n",
              "  'Ciudad del Carmen': 1000000,\n",
              "  'Angel Albino Corzo': 1000000,\n",
              "  'Minatitlan': 1000000,\n",
              "  'Veracruz': 1000000,\n",
              "  'Acapulco': 1000000,\n",
              "  'Puebla': 1000000,\n",
              "  'CDMX': 1000000,\n",
              "  'Morelia': 1000000,\n",
              "  'Uruapan': 1000000,\n",
              "  'San Luis Potosi': 1000000,\n",
              "  'Tampico': 1000000,\n",
              "  'Piedras Negras': 1000000,\n",
              "  'Culiacan': 1000000,\n",
              "  'Abraham Gonzalez': 1000000,\n",
              "  'Nogales': 1000000,\n",
              "  'Guaymas': 1000000,\n",
              "  'Loreto': 1000000,\n",
              "  'Manuel Marquez de Leon': 1000000,\n",
              "  'Los Cabos': 1000000},\n",
              " {'Cozumel': None,\n",
              "  'Ciudad del Carmen': None,\n",
              "  'Angel Albino Corzo': None,\n",
              "  'Minatitlan': None,\n",
              "  'Veracruz': None,\n",
              "  'Acapulco': None,\n",
              "  'Puebla': None,\n",
              "  'CDMX': None,\n",
              "  'Morelia': None,\n",
              "  'Uruapan': None,\n",
              "  'San Luis Potosi': None,\n",
              "  'Tampico': None,\n",
              "  'Piedras Negras': None,\n",
              "  'Culiacan': None,\n",
              "  'Abraham Gonzalez': None,\n",
              "  'Nogales': None,\n",
              "  'Guaymas': None,\n",
              "  'Loreto': None,\n",
              "  'Manuel Marquez de Leon': None,\n",
              "  'Los Cabos': None})"
            ]
          },
          "metadata": {},
          "execution_count": 11
        }
      ]
    }
  ]
}