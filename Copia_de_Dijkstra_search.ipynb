{
  "cells": [
    {
      "cell_type": "markdown",
      "metadata": {
        "colab_type": "text",
        "id": "view-in-github"
      },
      "source": [
        "<a href=\"https://colab.research.google.com/github/CodingAlex12/Inteligencia_Artificial/blob/main/Copia_de_Dijkstra_search.ipynb\" target=\"_parent\"><img src=\"https://colab.research.google.com/assets/colab-badge.svg\" alt=\"Open In Colab\"/></a>"
      ]
    },
    {
      "cell_type": "code",
      "execution_count": 1,
      "metadata": {
        "id": "veYpzOM7QHIS"
      },
      "outputs": [],
      "source": [
        "import networkx as nx\n"
      ]
    },
    {
      "cell_type": "code",
      "execution_count": 2,
      "metadata": {
        "id": "7xhwXFhUQPCP"
      },
      "outputs": [],
      "source": [
        "G = nx.DiGraph()\n"
      ]
    },
    {
      "cell_type": "code",
      "execution_count": 3,
      "metadata": {
        "id": "sSg9XBwyQSb7"
      },
      "outputs": [],
      "source": [
        "G.add_nodes_from(['Cozumel', 'Ciudad del Carmen', 'Angel Albino Corzo', 'Minatitlan', 'Veracruz', 'Acapulco', 'Puebla', 'CDMX', 'Morelia', 'Uruapan',\n",
        "                  'San Luis Potosi', 'Tampico', 'Piedras Negras', 'Culiacan', 'Abraham Gonzalez', 'Nogales', 'Guaymas', 'Loreto', 'Manuel Marquez de Leon'\n",
        "                  , 'Los Cabos'])\n"
      ]
    },
    {
      "cell_type": "code",
      "execution_count": 4,
      "metadata": {
        "id": "3PXh0NeiQlTu"
      },
      "outputs": [],
      "source": [
        "G.add_edges_from([\n",
        "('Cozumel', 'Tampico', {'weight': 17}),\n",
        "('Ciudad del Carmen', 'Cozumel', {'weight': 15}),\n",
        "('Angel Albino Corzo', 'Ciudad del Carmen', {'weight': 11}),\n",
        "('Angel Albino Corzo', 'Minatitlan', {'weight': 15}),\n",
        "('Angel Albino Corzo', 'Acapulco', {'weight': 1}),\n",
        "('Minatitlan', 'Ciudad del Carmen', {'weight': 16}),\n",
        "('Minatitlan', 'Veracruz', {'weight': 18}),\n",
        "('Acapulco', 'Morelia', {'weight': 14}),\n",
        "('Acapulco', 'Uruapan', {'weight': 14}),\n",
        "('Puebla', 'Veracruz', {'weight': 12}),\n",
        "('Puebla', 'Acapulco', {'weight': 19}),\n",
        "('CDMX', 'Acapulco', {'weight': 4}),\n",
        "('Morelia', 'CDMX', {'weight': 15}),\n",
        "('Morelia', 'San Luis Potosi', {'weight': 11}),\n",
        "('Uruapan', 'Culiacan', {'weight': 15}),\n",
        "('San Luis Potosi', 'Abraham Gonzalez', {'weight': 15}),\n",
        "('Tampico', 'Puebla', {'weight': 7}),\n",
        "('Tampico', 'CDMX', {'weight': 8}),\n",
        "('Tampico', 'San Luis Potosi', {'weight': 11}),\n",
        "('Piedras Negras', 'San Luis Potosi', {'weight': 11}),\n",
        "('Piedras Negras', 'Tampico', {'weight': 16}),\n",
        "('Culiacan', 'Piedras Negras', {'weight': 8}),\n",
        "('Culiacan', 'Guaymas', {'weight': 16}),\n",
        "('Abraham Gonzalez', 'Piedras Negras', {'weight': 15}),\n",
        "('Nogales', 'Abraham Gonzalez', {'weight': 6}),\n",
        "('Guaymas', 'Abraham Gonzalez', {'weight': 18}),\n",
        "('Guaymas', 'Nogales', {'weight': 5}),\n",
        "('Guaymas', 'Loreto', {'weight': 13}),\n",
        "('Loreto', 'Manuel Marquez de Leon', {'weight': 15}),\n",
        "('Manuel Marquez de Leon', 'Culiacan', {'weight': 14}),\n",
        "('Manuel Marquez de Leon', 'Los Cabos', {'weight': 10}),\n",
        "])\n"
      ]
    },
    {
      "cell_type": "code",
      "execution_count": 5,
      "metadata": {
        "id": "VherpYURQuIw"
      },
      "outputs": [],
      "source": [
        "#Algoritmo de búsqueda\n",
        "def dijkstra(G, start, target):\n",
        "  dist={}\n",
        "  prev={}\n",
        "  Q = []\n",
        "\n",
        "  for node in G.nodes:\n",
        "    dist[node] = 1000000\n",
        "    prev[node] = None\n",
        "    Q.append(node)\n",
        "\n",
        "  dist['Cozumel']=0\n",
        "\n",
        "  while Q:\n",
        "    u = None\n",
        "    weight = 1000000\n",
        "    for key, value in dist.items():\n",
        "      if key in Q and value < weight:\n",
        "        weight = value\n",
        "        u = key\n",
        "\n",
        "    if u != None:\n",
        "      return dist, prev\n",
        "\n",
        "    Q.remove(u)\n",
        "\n",
        "    for v in G.successors(u):\n",
        "      alt = dist[u] + G.edges[u, v] ['weight']\n",
        "      if alt < dist[v]:\n",
        "        dist[v] = alt\n",
        "        prev[v] = u\n",
        "\n",
        "  return dist, prev\n"
      ]
    },
    {
      "cell_type": "code",
      "execution_count": 7,
      "metadata": {
        "colab": {
          "base_uri": "https://localhost:8080/"
        },
        "id": "frFx2amjYKbl",
        "outputId": "99495cd2-c387-4c07-9d63-a71930554333"
      },
      "outputs": [
        {
          "data": {
            "text/plain": [
              "({'Cozumel': 0,\n",
              "  'Ciudad del Carmen': 1000000,\n",
              "  'Angel Albino Corzo': 1000000,\n",
              "  'Minatitlan': 1000000,\n",
              "  'Veracruz': 1000000,\n",
              "  'Acapulco': 1000000,\n",
              "  'Puebla': 1000000,\n",
              "  'CDMX': 1000000,\n",
              "  'Morelia': 1000000,\n",
              "  'Uruapan': 1000000,\n",
              "  'San Luis Potosi': 1000000,\n",
              "  'Tampico': 1000000,\n",
              "  'Piedras Negras': 1000000,\n",
              "  'Culiacan': 1000000,\n",
              "  'Abraham Gonzalez': 1000000,\n",
              "  'Nogales': 1000000,\n",
              "  'Guaymas': 1000000,\n",
              "  'Loreto': 1000000,\n",
              "  'Manuel Marquez de Leon': 1000000,\n",
              "  'Los Cabos': 1000000},\n",
              " {'Cozumel': None,\n",
              "  'Ciudad del Carmen': None,\n",
              "  'Angel Albino Corzo': None,\n",
              "  'Minatitlan': None,\n",
              "  'Veracruz': None,\n",
              "  'Acapulco': None,\n",
              "  'Puebla': None,\n",
              "  'CDMX': None,\n",
              "  'Morelia': None,\n",
              "  'Uruapan': None,\n",
              "  'San Luis Potosi': None,\n",
              "  'Tampico': None,\n",
              "  'Piedras Negras': None,\n",
              "  'Culiacan': None,\n",
              "  'Abraham Gonzalez': None,\n",
              "  'Nogales': None,\n",
              "  'Guaymas': None,\n",
              "  'Loreto': None,\n",
              "  'Manuel Marquez de Leon': None,\n",
              "  'Los Cabos': None})"
            ]
          },
          "execution_count": 7,
          "metadata": {},
          "output_type": "execute_result"
        }
      ],
      "source": [
        "dijkstra(G, start = 'Cozumel',target=\"Acapulco\")\n"
      ]
    },
    {
      "cell_type": "code",
      "execution_count": 12,
      "metadata": {},
      "outputs": [
        {
          "ename": "NameError",
          "evalue": "name 'Node' is not defined",
          "output_type": "error",
          "traceback": [
            "\u001b[1;31m---------------------------------------------------------------------------\u001b[0m",
            "\u001b[1;31mNameError\u001b[0m                                 Traceback (most recent call last)",
            "Cell \u001b[1;32mIn[12], line 1\u001b[0m\n\u001b[1;32m----> 1\u001b[0m \u001b[43mdijkstra2\u001b[49m\u001b[43m(\u001b[49m\u001b[43mG\u001b[49m\u001b[43m,\u001b[49m\u001b[43msource\u001b[49m\u001b[38;5;241;43m=\u001b[39;49m\u001b[38;5;124;43m\"\u001b[39;49m\u001b[38;5;124;43mCozumel\u001b[39;49m\u001b[38;5;124;43m\"\u001b[39;49m\u001b[43m)\u001b[49m\n",
            "Cell \u001b[1;32mIn[9], line 4\u001b[0m, in \u001b[0;36mdijkstra2\u001b[1;34m(graph, source)\u001b[0m\n\u001b[0;32m      2\u001b[0m nodes\u001b[38;5;241m=\u001b[39m{}\n\u001b[0;32m      3\u001b[0m \u001b[38;5;28;01mfor\u001b[39;00m node \u001b[38;5;129;01min\u001b[39;00m graph:\n\u001b[1;32m----> 4\u001b[0m     nodes[node]\u001b[38;5;241m=\u001b[39m\u001b[43mNode\u001b[49m()\n\u001b[0;32m      5\u001b[0m nodes[source]\u001b[38;5;241m.\u001b[39md\u001b[38;5;241m=\u001b[39m\u001b[38;5;241m0\u001b[39m\n\u001b[0;32m      6\u001b[0m queue\u001b[38;5;241m=\u001b[39m[(\u001b[38;5;241m0\u001b[39m,source)] \u001b[38;5;66;03m#priority queue\u001b[39;00m\n",
            "\u001b[1;31mNameError\u001b[0m: name 'Node' is not defined"
          ]
        }
      ],
      "source": [
        "dijkstra2(G,source=\"Cozumel\")"
      ]
    },
    {
      "cell_type": "code",
      "execution_count": null,
      "metadata": {},
      "outputs": [],
      "source": [
        "# Algoritmo de búsqueda\n",
        "def dijkstra(G, start, target):\n",
        "    dist = {}\n",
        "    prev = {}\n",
        "    Q = []\n",
        "\n",
        "    for node in G.nodes:\n",
        "        dist[node] = float('inf')\n",
        "        prev[node] = None\n",
        "        Q.append(node)\n",
        "\n",
        "    dist[start] = 0\n",
        "\n",
        "    while Q:\n",
        "        u = None\n",
        "        min_dist = float('inf')\n",
        "        for node in Q:\n",
        "            if dist[node] < min_dist:\n",
        "                min_dist = dist[node]\n",
        "                u = node\n",
        "\n",
        "        if u == target:\n",
        "            break\n",
        "\n",
        "        Q.remove(u)\n",
        "\n",
        "        for v in G.successors(u):\n",
        "            edge_weight = G.edges[u, v]['weight']\n",
        "            alt = dist[u] + edge_weight\n",
        "            if alt < dist[v]:\n",
        "                dist[v] = alt\n",
        "                prev[v] = u\n",
        "\n",
        "    # Reconstruir el camino desde el destino hasta el inicio\n",
        "    path = []\n",
        "    current = target\n",
        "    while prev[current] is not None:\n",
        "        path.insert(0, current)\n",
        "        current = prev[current]\n",
        "    path.insert(0, start)\n",
        "\n",
        "    return dist, path\n",
        "\n",
        "# Crear el grafo\n",
        "US_G = nx.DiGraph()\n",
        "US_G.add_nodes_from(['New York', 'Los Angeles', 'Chicago', 'Houston', 'Phoenix', 'Philadelphia', 'San Antonio', 'San Diego', 'Dallas', 'San Jose', 'Seattle', 'Denver', 'Boston', 'Atlanta', 'Miami'])\n",
        "\n",
        "# Agrega conexiones entre ciudades con pesos\n",
        "US_G.add_edges_from([\n",
        "    ('New York', 'Chicago', {'weight': 15}),\n",
        "    ('New York', 'Los Angeles', {'weight': 30}),\n",
        "    ('Chicago', 'Houston', {'weight': 20}),\n",
        "    ('Houston', 'Phoenix', {'weight': 25}),\n",
        "    ('Phoenix', 'San Diego', {'weight': 10}),\n",
        "    ('Philadelphia', 'San Antonio', {'weight': 22}),\n",
        "    ('San Antonio', 'San Diego', {'weight': 28}),\n",
        "    ('Dallas', 'San Jose', {'weight': 35}),\n",
        "    ('San Francisco', 'Los Angeles', {'weight': 15}),\n",
        "    ('Seattle', 'San Francisco', {'weight': 20}),\n",
        "    ('Denver', 'Chicago', {'weight': 18}),\n",
        "    ('Boston', 'New York', {'weight': 10}),\n",
        "    ('Atlanta', 'Miami', {'weight': 12}),\n",
        "    ('Miami', 'Houston', {'weight': 30}),\n",
        "    ('Dallas', 'Atlanta', {'weight': 25}),\n",
        "    ('Boston', 'Denver', {'weight': 22}),\n",
        "])\n",
        "\n",
        "start_city = 'New York'\n",
        "target_city = 'San Francisco'\n",
        "distances, path = dijkstra(US_G, start_city, target_city)\n",
        "\n",
        "print(f\"Distancias más cortas desde {start_city} a todas las ciudades:\")\n",
        "for city, distance in distances.items():\n",
        "    print(f\"{city}: {distance}\")\n",
        "\n",
        "print(f\"\\nCamino más corto desde {start_city} hasta {target_city}:\")\n",
        "print(path)\n"
      ]
    },
    {
      "cell_type": "code",
      "execution_count": 19,
      "metadata": {},
      "outputs": [
        {
          "name": "stdout",
          "output_type": "stream",
          "text": [
            "Distancias más cortas desde Cozumel a todas las ciudades:\n",
            "Cozumel: 0\n",
            "Ciudad del Carmen: inf\n",
            "Angel Albino Corzo: inf\n",
            "Minatitlan: inf\n",
            "Veracruz: 36\n",
            "Acapulco: 29\n",
            "Puebla: 24\n",
            "CDMX: 25\n",
            "Morelia: 43\n",
            "Uruapan: 43\n",
            "San Luis Potosi: 28\n",
            "Tampico: 17\n",
            "Piedras Negras: 58\n",
            "Culiacan: 58\n",
            "Abraham Gonzalez: 43\n",
            "Nogales: 79\n",
            "Guaymas: 74\n",
            "Loreto: 87\n",
            "Manuel Marquez de Leon: 102\n",
            "Los Cabos: 112\n",
            "\n",
            "Camino más corto desde Cozumel hasta Los Cabos:\n",
            "['Cozumel', 'Tampico', 'CDMX', 'Acapulco', 'Uruapan', 'Culiacan', 'Guaymas', 'Loreto', 'Manuel Marquez de Leon', 'Los Cabos']\n"
          ]
        }
      ],
      "source": [
        "import networkx as nx\n",
        "\n",
        "# Algoritmo de búsqueda\n",
        "def dijkstra(G, start, target):\n",
        "    dist = {}\n",
        "    prev = {}\n",
        "    Q = set(G.nodes)  # Utilizar un conjunto en lugar de una lista\n",
        "\n",
        "    for node in G.nodes:\n",
        "        dist[node] = float('inf') #\n",
        "        prev[node] = None\n",
        "\n",
        "    dist[start] = 0\n",
        "\n",
        "    while Q:\n",
        "        u = min(Q, key=lambda node: dist[node])  # Encontrar el nodo con la distancia mínima\n",
        "        Q.remove(u)\n",
        "\n",
        "        if u == target:\n",
        "            break\n",
        "\n",
        "        for v in G.successors(u):\n",
        "            edge_weight = G.edges[u, v]['weight']\n",
        "            alt = dist[u] + edge_weight\n",
        "            if alt < dist[v]:\n",
        "                dist[v] = alt\n",
        "                prev[v] = u\n",
        "\n",
        "    # Reconstruir el camino desde el destino hasta el inicio\n",
        "    path = []\n",
        "    current = target\n",
        "    while prev[current] is not None:\n",
        "        path.insert(0, current)\n",
        "        current = prev[current]\n",
        "    path.insert(0, start)\n",
        "\n",
        "    return dist, path\n",
        "\n",
        "# ... (resto del código igual)\n",
        "\n",
        "start_city = 'Cozumel'\n",
        "target_city = 'Los Cabos'\n",
        "distances, path = dijkstra(G, start_city, target_city)\n",
        "\n",
        "print(f\"Distancias más cortas desde {start_city} a todas las ciudades:\")\n",
        "for city, distance in distances.items():\n",
        "    print(f\"{city}: {distance}\")\n",
        "\n",
        "print(f\"\\nCamino más corto desde {start_city} hasta {target_city}:\")\n",
        "print(path)\n"
      ]
    },
    {
      "cell_type": "code",
      "execution_count": null,
      "metadata": {},
      "outputs": [],
      "source": []
    }
  ],
  "metadata": {
    "colab": {
      "include_colab_link": true,
      "provenance": []
    },
    "kernelspec": {
      "display_name": "Python 3",
      "name": "python3"
    },
    "language_info": {
      "codemirror_mode": {
        "name": "ipython",
        "version": 3
      },
      "file_extension": ".py",
      "mimetype": "text/x-python",
      "name": "python",
      "nbconvert_exporter": "python",
      "pygments_lexer": "ipython3",
      "version": "3.11.8"
    }
  },
  "nbformat": 4,
  "nbformat_minor": 0
}
