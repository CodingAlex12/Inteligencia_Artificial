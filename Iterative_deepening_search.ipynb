{
  "nbformat": 4,
  "nbformat_minor": 0,
  "metadata": {
    "colab": {
      "provenance": [],
      "include_colab_link": true
    },
    "kernelspec": {
      "name": "python3",
      "display_name": "Python 3"
    },
    "language_info": {
      "name": "python"
    }
  },
  "cells": [
    {
      "cell_type": "markdown",
      "metadata": {
        "id": "view-in-github",
        "colab_type": "text"
      },
      "source": [
        "<a href=\"https://colab.research.google.com/github/CodingAlex12/Inteligencia_Artificial/blob/main/Iterative_deepening_search.ipynb\" target=\"_parent\"><img src=\"https://colab.research.google.com/assets/colab-badge.svg\" alt=\"Open In Colab\"/></a>"
      ]
    },
    {
      "cell_type": "code",
      "execution_count": null,
      "metadata": {
        "id": "Hv2eo8TfvBrE"
      },
      "outputs": [],
      "source": [
        "import networkx as nx"
      ]
    },
    {
      "cell_type": "code",
      "source": [
        "G = nx.DiGraph()"
      ],
      "metadata": {
        "id": "p4bMtkhzvZ7_"
      },
      "execution_count": null,
      "outputs": []
    },
    {
      "cell_type": "code",
      "source": [
        "G.add_nodes_from(['Cozumel', 'Ciudad del Carmen', 'Angel Albino Corzo', 'Minatitlan', 'Veracruz', 'Acapulco', 'Puebla', 'CDMX', 'Morelia', 'Uruapan',\n",
        "                  'San Luis Potosi', 'Tampico', 'Piedras Negras', 'Culiacan', 'Abraham Gonzalez', 'Nogales', 'Guaymas', 'Loreto', 'Manuel Marquez de Leon'\n",
        "                  , 'Los Cabos'])"
      ],
      "metadata": {
        "id": "yc2FyGjkvctu"
      },
      "execution_count": null,
      "outputs": []
    },
    {
      "cell_type": "code",
      "source": [
        "G.add_edges_from([\n",
        "('Cozumel', 'Tampico', {'weight': 17}),\n",
        "('Ciudad del Carmen', 'Cozumel', {'weight': 15}),\n",
        "('Angel Albino Corzo', 'Ciudad del Carmen', {'weight': 11}),\n",
        "('Angel Albino Corzo', 'Minatitlan', {'weight': 15}),\n",
        "('Angel Albino Corzo', 'Acapulco', {'weight': 1}),\n",
        "('Minatitlan', 'Ciudad del Carmen', {'weight': 16}),\n",
        "('Minatitlan', 'Veracruz', {'weight': 18}),\n",
        "('Acapulco', 'Morelia', {'weight': 14}),\n",
        "('Acapulco', 'Uruapan', {'weight': 14}),\n",
        "('Puebla', 'Veracruz', {'weight': 12}),\n",
        "('Puebla', 'Acapulco', {'weight': 19}),\n",
        "('CDMX', 'Acapulco', {'weight': 4}),\n",
        "('Morelia', 'CDMX', {'weight': 15}),\n",
        "('Morelia', 'San Luis Potosi', {'weight': 11}),\n",
        "('Uruapan', 'Culiacan', {'weight': 15}),\n",
        "('San Luis Potosi', 'Abraham Gonzalez', {'weight': 15}),\n",
        "('Tampico', 'Puebla', {'weight': 7}),\n",
        "('Tampico', 'CDMX', {'weight': 8}),\n",
        "('Tampico', 'San Luis Potosi', {'weight': 11}),\n",
        "('Piedras Negras', 'San Luis Potosi', {'weight': 11}),\n",
        "('Piedras Negras', 'Tampico', {'weight': 16}),\n",
        "('Culiacan', 'Piedras Negras', {'weight': 8}),\n",
        "('Culiacan', 'Guaymas', {'weight': 16}),\n",
        "('Abraham Gonzalez', 'Piedras Negras', {'weight': 15}),\n",
        "('Nogales', 'Abraham Gonzalez', {'weight': 6}),\n",
        "('Guaymas', 'Abraham Gonzalez', {'weight': 18}),\n",
        "('Guaymas', 'Nogales', {'weight': 5}),\n",
        "('Guaymas', 'Loreto', {'weight': 13}),\n",
        "('Loreto', 'Manuel Marquez de Leon', {'weight': 15}),\n",
        "('Manuel Marquez de Leon', 'Culiacan', {'weight': 14}),\n",
        "('Manuel Marquez de Leon', 'Los Cabos', {'weight': 10}),\n",
        "])"
      ],
      "metadata": {
        "id": "Ao5-CdUCvfKW"
      },
      "execution_count": null,
      "outputs": []
    },
    {
      "cell_type": "code",
      "source": [
        "#Algoritmo búsqueda iterativa a lo profundo\n",
        "def iddfs(graph, start, target, max_depth):\n",
        "  if start not in G.nodes or target not in G.nodes:\n",
        "    print (\"Error: Los nodos de objetivo e inicio deben estar en el grafo\")\n",
        "\n",
        "  for depth in range(max_depth + 1):\n",
        "    visited = set()\n",
        "    result = dls(graph, start, target, depth, visited)\n",
        "\n",
        "    if result is not None:\n",
        "      return result\n",
        "\n",
        "  return None\n",
        "\n",
        "def dls(graph, node, target, depth, visited):\n",
        "  if depth == 0 and node == target:\n",
        "    return [node]\n",
        "  elif depth > 0:\n",
        "    visited.add(node)\n",
        "\n",
        "    for neighbor in graph.neighbors(node):\n",
        "      if neighbor not in visited:\n",
        "        result = dls(graph, neighbor, target, depth - 1, visited)\n",
        "        if result is not None:\n",
        "          return [node] + result\n",
        "\n",
        "  return None\n",
        "\n",
        "# Parámetros de entrada\n",
        "start = input(\"Ingrese el nodo de inicio: \")\n",
        "target = input(\"Ingrese el nodo objetivo: \")\n",
        "max_depth = int(input(\"Ingrese la profundidad máxima: \"))\n",
        "\n",
        "# Llamar al algoritmo IDDFS\n",
        "result = iddfs(G, start, target, max_depth)\n",
        "\n",
        "# Imprimir el resultado\n",
        "if result:\n",
        "    print(\"Se encontró un camino desde\", start, \"hasta\", target, \":\", result)\n",
        "else:\n",
        "    print(\"No se encontró un camino desde\", start, \"hasta\", target, \"dentro de la profundidad máxima de\", max_depth)\n"
      ],
      "metadata": {
        "colab": {
          "base_uri": "https://localhost:8080/"
        },
        "id": "saDL0D8bvhdr",
        "outputId": "9426b5cb-b5a6-4453-f7b9-1c549f9571be"
      },
      "execution_count": null,
      "outputs": [
        {
          "output_type": "stream",
          "name": "stdout",
          "text": [
            "Ingrese el nodo de inicio: Cozumel\n",
            "Ingrese el nodo objetivo: Los Cabos\n",
            "Ingrese la profundidad máxima: 10\n",
            "Se encontró un camino desde Cozumel hasta Los Cabos : ['Cozumel', 'Tampico', 'Puebla', 'Acapulco', 'Uruapan', 'Culiacan', 'Guaymas', 'Loreto', 'Manuel Marquez de Leon', 'Los Cabos']\n"
          ]
        }
      ]
    }
  ]
}