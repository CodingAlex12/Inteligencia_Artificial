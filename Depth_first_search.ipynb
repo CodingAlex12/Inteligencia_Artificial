{
  "nbformat": 4,
  "nbformat_minor": 0,
  "metadata": {
    "colab": {
      "provenance": [],
      "include_colab_link": true
    },
    "kernelspec": {
      "name": "python3",
      "display_name": "Python 3"
    },
    "language_info": {
      "name": "python"
    }
  },
  "cells": [
    {
      "cell_type": "markdown",
      "metadata": {
        "id": "view-in-github",
        "colab_type": "text"
      },
      "source": [
        "<a href=\"https://colab.research.google.com/github/CodingAlex12/Inteligencia_Artificial/blob/main/Depth_first_search.ipynb\" target=\"_parent\"><img src=\"https://colab.research.google.com/assets/colab-badge.svg\" alt=\"Open In Colab\"/></a>"
      ]
    },
    {
      "cell_type": "code",
      "execution_count": null,
      "metadata": {
        "id": "IxSLVd7jsqKG"
      },
      "outputs": [],
      "source": [
        "import networkx as nx"
      ]
    },
    {
      "cell_type": "code",
      "source": [
        "G = nx.DiGraph()"
      ],
      "metadata": {
        "id": "pZZWYL6-s7Bz"
      },
      "execution_count": null,
      "outputs": []
    },
    {
      "cell_type": "code",
      "source": [
        "G.add_nodes_from(['Cozumel', 'Ciudad del Carmen', 'Angel Albino Corzo', 'Minatitlan', 'Veracruz', 'Acapulco', 'Puebla', 'CDMX', 'Morelia', 'Uruapan',\n",
        "                  'San Luis Potosi', 'Tampico', 'Piedras Negras', 'Culiacan', 'Abraham Gonzalez', 'Nogales', 'Guaymas', 'Loreto', 'Manuel Marquez de Leon'\n",
        "                  , 'Los Cabos'])"
      ],
      "metadata": {
        "id": "d4XwLRYOs8WO"
      },
      "execution_count": null,
      "outputs": []
    },
    {
      "cell_type": "code",
      "source": [
        "G.add_edges_from([\n",
        "('Cozumel', 'Tampico', {'weight': 17}),\n",
        "('Ciudad del Carmen', 'Cozumel', {'weight': 15}),\n",
        "('Angel Albino Corzo', 'Ciudad del Carmen', {'weight': 11}),\n",
        "('Angel Albino Corzo', 'Minatitlan', {'weight': 15}),\n",
        "('Angel Albino Corzo', 'Acapulco', {'weight': 1}),\n",
        "('Minatitlan', 'Ciudad del Carmen', {'weight': 16}),\n",
        "('Minatitlan', 'Veracruz', {'weight': 18}),\n",
        "('Acapulco', 'Morelia', {'weight': 14}),\n",
        "('Acapulco', 'Uruapan', {'weight': 14}),\n",
        "('Puebla', 'Veracruz', {'weight': 12}),\n",
        "('Puebla', 'Acapulco', {'weight': 19}),\n",
        "('CDMX', 'Acapulco', {'weight': 4}),\n",
        "('Morelia', 'CDMX', {'weight': 15}),\n",
        "('Morelia', 'San Luis Potosi', {'weight': 11}),\n",
        "('Uruapan', 'Culiacan', {'weight': 15}),\n",
        "('San Luis Potosi', 'Abraham Gonzalez', {'weight': 15}),\n",
        "('Tampico', 'Puebla', {'weight': 7}),\n",
        "('Tampico', 'CDMX', {'weight': 8}),\n",
        "('Tampico', 'San Luis Potosi', {'weight': 11}),\n",
        "('Piedras Negras', 'San Luis Potosi', {'weight': 11}),\n",
        "('Piedras Negras', 'Tampico', {'weight': 16}),\n",
        "('Culiacan', 'Piedras Negras', {'weight': 8}),\n",
        "('Culiacan', 'Guaymas', {'weight': 16}),\n",
        "('Abraham Gonzalez', 'Piedras Negras', {'weight': 15}),\n",
        "('Nogales', 'Abraham Gonzalez', {'weight': 6}),\n",
        "('Guaymas', 'Abraham Gonzalez', {'weight': 18}),\n",
        "('Guaymas', 'Nogales', {'weight': 5}),\n",
        "('Guaymas', 'Loreto', {'weight': 13}),\n",
        "('Loreto', 'Manuel Marquez de Leon', {'weight': 15}),\n",
        "('Manuel Marquez de Leon', 'Culiacan', {'weight': 14}),\n",
        "('Manuel Marquez de Leon', 'Los Cabos', {'weight': 10}),\n",
        "])"
      ],
      "metadata": {
        "id": "LZQmldRWs_F4"
      },
      "execution_count": null,
      "outputs": []
    },
    {
      "cell_type": "code",
      "source": [
        "#Algoritmo búsqueda a lo profundo\n",
        "def dfs(graph, start, target, visited=None, path=None):\n",
        "\n",
        "  if start not in G.nodes or target not in G.nodes:\n",
        "    print (\"Error: Los nodos de objetivo e inicio deben estar en el grafo\")\n",
        "\n",
        "  if visited is None:\n",
        "    visited = set()\n",
        "  if path is None:\n",
        "    path = []\n",
        "\n",
        "  visited.add(start)\n",
        "  path = path + [start]\n",
        "\n",
        "  if start == target:\n",
        "    return path\n",
        "\n",
        "  for neighbor in graph.neighbors(start):\n",
        "    if neighbor not in visited:\n",
        "      new_path = dfs(graph, neighbor, target, visited, path)\n",
        "      if new_path:\n",
        "        return new_path\n",
        "\n",
        "  return None\n",
        "\n",
        "# Solicitar al usuario los nodos de inicio y objetivo\n",
        "start = input(\"Ingrese el nodo de inicio: \")\n",
        "target = input(\"Ingrese el nodo objetivo: \")\n",
        "\n",
        "# Llamar al algoritmo DFS\n",
        "path = dfs(G, start, target)\n",
        "\n",
        "# Imprimir el resultado\n",
        "if path:\n",
        "    print(\"Camino encontrado:\", path)\n",
        "else:\n",
        "    print(\"No se encontró un camino desde\", start, \"hasta\", target)"
      ],
      "metadata": {
        "colab": {
          "base_uri": "https://localhost:8080/"
        },
        "id": "UzKmA0c7tB6E",
        "outputId": "41f1ee1d-8e1e-4572-c6ea-757abe1d3c9b"
      },
      "execution_count": null,
      "outputs": [
        {
          "output_type": "stream",
          "name": "stdout",
          "text": [
            "Ingrese el nodo de inicio: Cozumel\n",
            "Ingrese el nodo objetivo: Los Cabos\n",
            "Camino encontrado: ['Cozumel', 'Tampico', 'Puebla', 'Acapulco', 'Uruapan', 'Culiacan', 'Guaymas', 'Loreto', 'Manuel Marquez de Leon', 'Los Cabos']\n"
          ]
        }
      ]
    }
  ]
}