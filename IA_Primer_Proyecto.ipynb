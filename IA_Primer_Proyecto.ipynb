{
  "cells": [
    {
      "cell_type": "markdown",
      "metadata": {
        "colab_type": "text",
        "id": "view-in-github"
      },
      "source": [
        "<a href=\"https://colab.research.google.com/github/CodingAlex12/Inteligencia_Artificial/blob/main/IA_Primer_Proyecto.ipynb\" target=\"_parent\"><img src=\"https://colab.research.google.com/assets/colab-badge.svg\" alt=\"Open In Colab\"/></a>"
      ]
    },
    {
      "cell_type": "code",
      "execution_count": 1,
      "metadata": {
        "id": "0RwLdzIibvuL"
      },
      "outputs": [],
      "source": [
        "import numpy as np\n",
        "import networkx as nx\n",
        "import matplotlib.pyplot as plt\n",
        "import random"
      ]
    },
    {
      "cell_type": "code",
      "execution_count": 2,
      "metadata": {
        "id": "V8Mu88mbbmbU"
      },
      "outputs": [],
      "source": [
        "G = nx.DiGraph()\n",
        "G.add_nodes_from(['Cozumel', 'Ciudad del Carmen', 'Angel Albino Corzo', 'Minatitlan', 'Veracruz', 'Acapulco', 'Puebla', 'CDMX', 'Morelia', 'Uruapan',\n",
        "                  'San Luis Potosi', 'Tampico', 'Piedras Negras', 'Culiacan', 'Abraham Gonzalez', 'Nogales', 'Guaymas', 'Loreto', 'Manuel Marquez de Leon'\n",
        "                  , 'Los Cabos'])\n",
        "G.add_edges_from([\n",
        "('Cozumel', 'Tampico', {'weight': 17}),\n",
        "('Ciudad del Carmen', 'Cozumel', {'weight': 15}),\n",
        "('Angel Albino Corzo', 'Ciudad del Carmen', {'weight': 11}),\n",
        "('Angel Albino Corzo', 'Minatitlan', {'weight': 15}),\n",
        "('Angel Albino Corzo', 'Acapulco', {'weight': 1}),\n",
        "('Minatitlan', 'Ciudad del Carmen', {'weight': 16}),\n",
        "('Minatitlan', 'Veracruz', {'weight': 18}),\n",
        "('Acapulco', 'Morelia', {'weight': 14}),\n",
        "('Acapulco', 'Uruapan', {'weight': 14}),\n",
        "('Puebla', 'Veracruz', {'weight': 12}),\n",
        "('Puebla', 'Acapulco', {'weight': 19}),\n",
        "('CDMX', 'Acapulco', {'weight': 4}),\n",
        "('Morelia', 'CDMX', {'weight': 15}),\n",
        "('Morelia', 'San Luis Potosi', {'weight': 11}),\n",
        "('Uruapan', 'Culiacan', {'weight': 15}),\n",
        "('San Luis Potosi', 'Abraham Gonzalez', {'weight': 15}),\n",
        "('Tampico', 'Puebla', {'weight': 7}),\n",
        "('Tampico', 'CDMX', {'weight': 8}),\n",
        "('Tampico', 'San Luis Potosi', {'weight': 11}),\n",
        "('Piedras Negras', 'San Luis Potosi', {'weight': 11}),\n",
        "('Piedras Negras', 'Tampico', {'weight': 16}),\n",
        "('Culiacan', 'Piedras Negras', {'weight': 8}),\n",
        "('Culiacan', 'Guaymas', {'weight': 16}),\n",
        "('Abraham Gonzalez', 'Piedras Negras', {'weight': 15}),\n",
        "('Nogales', 'Abraham Gonzalez', {'weight': 6}),\n",
        "('Guaymas', 'Abraham Gonzalez', {'weight': 18}),\n",
        "('Guaymas', 'Nogales', {'weight': 5}),\n",
        "('Guaymas', 'Loreto', {'weight': 13}),\n",
        "('Loreto', 'Manuel Marquez de Leon', {'weight': 15}),\n",
        "('Manuel Marquez de Leon', 'Culiacan', {'weight': 14}),\n",
        "('Manuel Marquez de Leon', 'Los Cabos', {'weight': 10}),\n",
        "])"
      ]
    },
    {
      "cell_type": "code",
      "execution_count": 7,
      "metadata": {
        "id": "pGrlpAU5zAnT"
      },
      "outputs": [],
      "source": [
        "\n",
        "\n",
        "# Crea un grafo dirigido\n",
        "US_G = nx.DiGraph()\n",
        "\n",
        "# Agrega nodos de ciudades estadounidenses\n",
        "US_G.add_nodes_from(['New York', 'Los Angeles', 'Chicago', 'Houston', 'Phoenix', 'Philadelphia', 'San Antonio', 'San Diego', 'Dallas', 'San Jose', 'Seattle', 'Denver', 'Boston', 'Atlanta', 'Miami'])\n",
        "\n",
        "# Agrega conexiones entre ciudades con pesos\n",
        "US_G.add_edges_from([\n",
        "    ('New York', 'Chicago', {'weight': 15}),\n",
        "    ('New York', 'Los Angeles', {'weight': 30}),\n",
        "    ('Chicago', 'Houston', {'weight': 20}),\n",
        "    ('Houston', 'Phoenix', {'weight': 25}),\n",
        "    ('Phoenix', 'San Diego', {'weight': 10}),\n",
        "    ('Philadelphia', 'San Antonio', {'weight': 22}),\n",
        "    ('San Antonio', 'San Diego', {'weight': 28}),\n",
        "    ('Dallas', 'San Jose', {'weight': 35}),\n",
        "    ('San Francisco', 'Los Angeles', {'weight': 15}),\n",
        "    ('Seattle', 'San Francisco', {'weight': 20}),\n",
        "    ('Denver', 'Chicago', {'weight': 18}),\n",
        "    ('Boston', 'New York', {'weight': 10}),\n",
        "    ('Atlanta', 'Miami', {'weight': 12}),\n",
        "    ('Miami', 'Houston', {'weight': 30}),\n",
        "    ('Dallas', 'Atlanta', {'weight': 25}),\n",
        "    ('Boston', 'Denver', {'weight': 22}),\n",
        "])\n",
        "\n",
        "\n"
      ]
    },
    {
      "cell_type": "code",
      "execution_count": 50,
      "metadata": {
        "id": "yODr1e5McOoj"
      },
      "outputs": [],
      "source": [
        "class GraphSearch ():\n",
        "  def __init__(self,grafo,entrada,salida,limit=None):\n",
        "    self.graph = grafo\n",
        "    self.entrada = entrada\n",
        "    self.salida= salida\n",
        "    self.limit = limit\n",
        "    self.mainpath =[]\n",
        "\n",
        "  def valores(self):\n",
        "    print(\"inicio:\", self.entrada)\n",
        "    print(\"salida:\", self.salida)\n",
        "    print(\"limit:\", self.limit)\n",
        "  \n",
        "  def asignando(self):\n",
        "    self.entrada = \"Cozumel\"\n",
        "    self.salida = \"Los Cabos\"\n",
        "    self.limit=8\n",
        "\n",
        "  def verificacion(self):\n",
        "    verificacion1 = True\n",
        "    verificacion2 = True\n",
        "\n",
        "    while verificacion1:\n",
        "        self.entrada = input(\"Ingrese la ciudad origen: \")\n",
        "        if self.entrada.lower() not in map(str.lower, self.graph.nodes): #implementación de .lower para hacer la entrada minusculas para su comparación\n",
        "            print(\"Ciudad de origen no válida.\")           #implementacion de \"map\" que usa como primer valor una función y como segundo valor las secuencias (listas, tuplas, conjuntos, grafos )\n",
        "        else:\n",
        "            print(\"Ciudad de origen válida.\")\n",
        "            verificacion1 = False\n",
        "\n",
        "    while verificacion2:\n",
        "        self.salida = input(\"Ingrese la ciudad destino: \")\n",
        "        if self.salida.lower() not in map(str.lower, self.graph.nodes):\n",
        "            print(\"Ciudad destino no válida.\")\n",
        "        else:\n",
        "            print(\"Ciudad destino válida.\")\n",
        "            verificacion2 = False\n",
        "\n",
        "  def menu(self):\n",
        "    nx.draw(self.graph, pos=nx.shell_layout(self.graph), with_labels=True,node_size=1200,font_size=8)\n",
        "\n",
        "  def DLS(self,G=None, start=None, target=None, limit=None,path=None): #depth limited search\n",
        "    G=self.graph\n",
        "    start= self.entrada\n",
        "    target=self.salida\n",
        "    limit=self.limit\n",
        "    path=[]\n",
        "    frontier = [(start,0)]\n",
        "    reached = []\n",
        "    while frontier:\n",
        "      node, depth = frontier.pop(0)\n",
        "      reached.append(node)\n",
        "\n",
        "      if node == target:\n",
        "        path.append(node)\n",
        "        return path\n",
        "\n",
        "      elif depth > limit:\n",
        "        return \"cutoff\"\n",
        "\n",
        "      else:\n",
        "        cutoff = False\n",
        "        for neighbor in G.neighbors(node):\n",
        "          if neighbor not in reached:\n",
        "            frontier.append((neighbor,depth+1))\n",
        "            result = self.DLS(G, neighbor, target, limit - 1, path + [node])\n",
        "            if result == \"cutoff\":\n",
        "                cutoff = True\n",
        "            elif result != \"failure\":\n",
        "                return result\n",
        "\n",
        "        if cutoff:\n",
        "          return \"cutoff\"\n",
        "        else:\n",
        "          return \"failure\"\n",
        "      print(reached)\n",
        "\n",
        "  def bfs(self,G, start_node=None, target_node=None): #breadth first search\n",
        "\n",
        "    start_node=self.entrada\n",
        "    target_node=self.salida\n",
        "    G=self.graph\n",
        "    frontier = [start_node]\n",
        "    reached = []\n",
        "\n",
        "    while frontier:\n",
        "        node = frontier.pop(0)\n",
        "        reached.append(node)\n",
        "\n",
        "        if node == target_node:\n",
        "            return reached\n",
        "\n",
        "        for successor in G.successors(node):\n",
        "            if successor not in reached and successor not in frontier:\n",
        "                frontier.append(successor)\n",
        "\n",
        "    print(\"No se encontró un camino desde {} hasta {}.\".format(start_node, target_node))\n",
        "    return None\n",
        "\n",
        "    path = bfs(G, start_node, target_node)\n",
        "\n",
        "    if path:\n",
        "        print(\"Camino encontrado:\", path)\n",
        "\n",
        "  #depth search\n",
        "  def dfs(self, graph= None, start= None, target=None, visited=None, path=None):\n",
        "    graph = self.graph\n",
        "    start = self.entrada\n",
        "    target = self.salida\n",
        "\n",
        "    if visited is None:\n",
        "      visited = set()\n",
        "    if path is None:\n",
        "      path = []\n",
        "\n",
        "    visited.add(start)\n",
        "    path = path + [start]\n",
        "\n",
        "    if start == target:\n",
        "      return path\n",
        "\n",
        "    for neighbor in graph.neighbors(start):\n",
        "      if neighbor not in visited:\n",
        "        new_path = self.dfs(graph, neighbor, target, visited, path)\n",
        "        if new_path:\n",
        "          return new_path\n",
        "\n",
        "    return None\n",
        "\n",
        "    # Imprimir el resultado\n",
        "    #if path:\n",
        "    #   print(\"Camino encontrado:\", path)\n",
        "    #else:\n",
        "    #   print(\"No se encontró un camino desde\", start, \"hasta\", target)\n",
        "\n",
        "  def dijkstra(self, G=None, start=None, target=None):\n",
        "    G = self.graph\n",
        "    start= self.entrada\n",
        "    target= self.salida\n",
        "    dist = {}\n",
        "    prev = {}\n",
        "    Q = set(G.nodes)  # Utilizar un conjunto en lugar de una lista\n",
        "\n",
        "    for node in G.nodes: \n",
        "        dist[node] = float('inf') #\n",
        "        prev[node] = None\n",
        "\n",
        "    dist[start] = 0\n",
        "\n",
        "    while Q:\n",
        "        u = min(Q, key=lambda node: dist[node])  # Encontrar el nodo con la distancia mínima\n",
        "        Q.remove(u)\n",
        "\n",
        "        if u == target:\n",
        "            break\n",
        "\n",
        "        for v in G.successors(u):\n",
        "            edge_weight = G.edges[u, v]['weight']\n",
        "            alt = dist[u] + edge_weight\n",
        "            if alt < dist[v]:\n",
        "                dist[v] = alt\n",
        "                prev[v] = u\n",
        "\n",
        "    # Reconstruir el camino desde el destino hasta el inicio\n",
        "    path = []\n",
        "    current = target\n",
        "    while prev[current] is not None:\n",
        "        path.insert(0, current)\n",
        "        current = prev[current]\n",
        "    path.insert(0, start)\n",
        "\n",
        "    return dist, path\n",
        "  #distances, path = dijkstra(G, start_city, target_city)\n",
        "  \n",
        "\n",
        "\n"
      ]
    },
    {
      "cell_type": "code",
      "execution_count": 59,
      "metadata": {
        "id": "2bEA9Lg_ossy"
      },
      "outputs": [],
      "source": [
        "prueba= GraphSearch(G,\"Cozumel\",\"Los Cabos\",None)"
      ]
    },
    {
      "cell_type": "code",
      "execution_count": 60,
      "metadata": {
        "colab": {
          "base_uri": "https://localhost:8080/"
        },
        "id": "QkgULO0prgaJ",
        "outputId": "afbf4cc7-36b8-4df6-c755-6b8c2052d127"
      },
      "outputs": [
        {
          "name": "stdout",
          "output_type": "stream",
          "text": [
            "inicio: Cozumel\n",
            "salida: Los Cabos\n",
            "limit: None\n"
          ]
        }
      ],
      "source": [
        "prueba.valores()"
      ]
    },
    {
      "cell_type": "code",
      "execution_count": 55,
      "metadata": {},
      "outputs": [
        {
          "name": "stdout",
          "output_type": "stream",
          "text": [
            "inicio: Cozumel\n",
            "salida: Los Cabos\n",
            "limit: 8\n"
          ]
        }
      ],
      "source": [
        "prueba.asignando()\n",
        "prueba.valores()"
      ]
    },
    {
      "cell_type": "code",
      "execution_count": null,
      "metadata": {
        "id": "kz6AmYZUrx3z"
      },
      "outputs": [],
      "source": [
        "prueba.verificacion()"
      ]
    },
    {
      "cell_type": "code",
      "execution_count": 61,
      "metadata": {
        "id": "JKAleKSVr4og"
      },
      "outputs": [
        {
          "ename": "RecursionError",
          "evalue": "maximum recursion depth exceeded while calling a Python object",
          "output_type": "error",
          "traceback": [
            "\u001b[1;31m---------------------------------------------------------------------------\u001b[0m",
            "\u001b[1;31mRecursionError\u001b[0m                            Traceback (most recent call last)",
            "Cell \u001b[1;32mIn[61], line 1\u001b[0m\n\u001b[1;32m----> 1\u001b[0m \u001b[43mprueba\u001b[49m\u001b[38;5;241;43m.\u001b[39;49m\u001b[43mdfs\u001b[49m\u001b[43m(\u001b[49m\u001b[43m)\u001b[49m\n",
            "Cell \u001b[1;32mIn[50], line 124\u001b[0m, in \u001b[0;36mGraphSearch.dfs\u001b[1;34m(self, graph, start, target, visited, path)\u001b[0m\n\u001b[0;32m    122\u001b[0m \u001b[38;5;28;01mfor\u001b[39;00m neighbor \u001b[38;5;129;01min\u001b[39;00m graph\u001b[38;5;241m.\u001b[39mneighbors(start):\n\u001b[0;32m    123\u001b[0m   \u001b[38;5;28;01mif\u001b[39;00m neighbor \u001b[38;5;129;01mnot\u001b[39;00m \u001b[38;5;129;01min\u001b[39;00m visited:\n\u001b[1;32m--> 124\u001b[0m     new_path \u001b[38;5;241m=\u001b[39m \u001b[38;5;28;43mself\u001b[39;49m\u001b[38;5;241;43m.\u001b[39;49m\u001b[43mdfs\u001b[49m\u001b[43m(\u001b[49m\u001b[43mgraph\u001b[49m\u001b[43m,\u001b[49m\u001b[43m \u001b[49m\u001b[43mneighbor\u001b[49m\u001b[43m,\u001b[49m\u001b[43m \u001b[49m\u001b[43mtarget\u001b[49m\u001b[43m,\u001b[49m\u001b[43m \u001b[49m\u001b[43mvisited\u001b[49m\u001b[43m,\u001b[49m\u001b[43m \u001b[49m\u001b[43mpath\u001b[49m\u001b[43m)\u001b[49m\n\u001b[0;32m    125\u001b[0m     \u001b[38;5;28;01mif\u001b[39;00m new_path:\n\u001b[0;32m    126\u001b[0m       \u001b[38;5;28;01mreturn\u001b[39;00m new_path\n",
            "Cell \u001b[1;32mIn[50], line 124\u001b[0m, in \u001b[0;36mGraphSearch.dfs\u001b[1;34m(self, graph, start, target, visited, path)\u001b[0m\n\u001b[0;32m    122\u001b[0m \u001b[38;5;28;01mfor\u001b[39;00m neighbor \u001b[38;5;129;01min\u001b[39;00m graph\u001b[38;5;241m.\u001b[39mneighbors(start):\n\u001b[0;32m    123\u001b[0m   \u001b[38;5;28;01mif\u001b[39;00m neighbor \u001b[38;5;129;01mnot\u001b[39;00m \u001b[38;5;129;01min\u001b[39;00m visited:\n\u001b[1;32m--> 124\u001b[0m     new_path \u001b[38;5;241m=\u001b[39m \u001b[38;5;28;43mself\u001b[39;49m\u001b[38;5;241;43m.\u001b[39;49m\u001b[43mdfs\u001b[49m\u001b[43m(\u001b[49m\u001b[43mgraph\u001b[49m\u001b[43m,\u001b[49m\u001b[43m \u001b[49m\u001b[43mneighbor\u001b[49m\u001b[43m,\u001b[49m\u001b[43m \u001b[49m\u001b[43mtarget\u001b[49m\u001b[43m,\u001b[49m\u001b[43m \u001b[49m\u001b[43mvisited\u001b[49m\u001b[43m,\u001b[49m\u001b[43m \u001b[49m\u001b[43mpath\u001b[49m\u001b[43m)\u001b[49m\n\u001b[0;32m    125\u001b[0m     \u001b[38;5;28;01mif\u001b[39;00m new_path:\n\u001b[0;32m    126\u001b[0m       \u001b[38;5;28;01mreturn\u001b[39;00m new_path\n",
            "    \u001b[1;31m[... skipping similar frames: GraphSearch.dfs at line 124 (2969 times)]\u001b[0m\n",
            "Cell \u001b[1;32mIn[50], line 124\u001b[0m, in \u001b[0;36mGraphSearch.dfs\u001b[1;34m(self, graph, start, target, visited, path)\u001b[0m\n\u001b[0;32m    122\u001b[0m \u001b[38;5;28;01mfor\u001b[39;00m neighbor \u001b[38;5;129;01min\u001b[39;00m graph\u001b[38;5;241m.\u001b[39mneighbors(start):\n\u001b[0;32m    123\u001b[0m   \u001b[38;5;28;01mif\u001b[39;00m neighbor \u001b[38;5;129;01mnot\u001b[39;00m \u001b[38;5;129;01min\u001b[39;00m visited:\n\u001b[1;32m--> 124\u001b[0m     new_path \u001b[38;5;241m=\u001b[39m \u001b[38;5;28;43mself\u001b[39;49m\u001b[38;5;241;43m.\u001b[39;49m\u001b[43mdfs\u001b[49m\u001b[43m(\u001b[49m\u001b[43mgraph\u001b[49m\u001b[43m,\u001b[49m\u001b[43m \u001b[49m\u001b[43mneighbor\u001b[49m\u001b[43m,\u001b[49m\u001b[43m \u001b[49m\u001b[43mtarget\u001b[49m\u001b[43m,\u001b[49m\u001b[43m \u001b[49m\u001b[43mvisited\u001b[49m\u001b[43m,\u001b[49m\u001b[43m \u001b[49m\u001b[43mpath\u001b[49m\u001b[43m)\u001b[49m\n\u001b[0;32m    125\u001b[0m     \u001b[38;5;28;01mif\u001b[39;00m new_path:\n\u001b[0;32m    126\u001b[0m       \u001b[38;5;28;01mreturn\u001b[39;00m new_path\n",
            "Cell \u001b[1;32mIn[50], line 116\u001b[0m, in \u001b[0;36mGraphSearch.dfs\u001b[1;34m(self, graph, start, target, visited, path)\u001b[0m\n\u001b[0;32m    113\u001b[0m \u001b[38;5;28;01mif\u001b[39;00m path \u001b[38;5;129;01mis\u001b[39;00m \u001b[38;5;28;01mNone\u001b[39;00m:\n\u001b[0;32m    114\u001b[0m   path \u001b[38;5;241m=\u001b[39m []\n\u001b[1;32m--> 116\u001b[0m visited\u001b[38;5;241m.\u001b[39madd(start)\n\u001b[0;32m    117\u001b[0m path \u001b[38;5;241m=\u001b[39m path \u001b[38;5;241m+\u001b[39m [start]\n\u001b[0;32m    119\u001b[0m \u001b[38;5;28;01mif\u001b[39;00m start \u001b[38;5;241m==\u001b[39m target:\n",
            "\u001b[1;31mRecursionError\u001b[0m: maximum recursion depth exceeded while calling a Python object"
          ]
        }
      ],
      "source": [
        "prueba.dfs()"
      ]
    },
    {
      "cell_type": "code",
      "execution_count": null,
      "metadata": {
        "id": "hBghTslPxuzi"
      },
      "outputs": [],
      "source": [
        "prueba.menu()"
      ]
    },
    {
      "cell_type": "code",
      "execution_count": null,
      "metadata": {
        "id": "dkiTr809bf8Z"
      },
      "outputs": [],
      "source": [
        "verificacion1 = True\n",
        "verificacion2 = True\n",
        "\n",
        "while verificacion1:\n",
        "    entrada = input(\"Ingrese la ciudad origen: \")\n",
        "    if entrada.lower() not in map(str.lower, G.nodes): #implementación de .lower para hacer la entrada minusculas para su comparación\n",
        "        print(\"Ciudad de origen no válida.\")           #implementacion de \"map\" que usa como primer valor una función y como segundo valor las secuencias (listas, tuplas, conjuntos, grafos )\n",
        "    else:\n",
        "        print(\"Ciudad de origen válida.\")\n",
        "        verificacion1 = False\n",
        "\n",
        "while verificacion2:\n",
        "    salida = input(\"Ingrese la ciudad destino: \")\n",
        "    if salida.lower() not in map(str.lower, G.nodes):\n",
        "        print(\"Ciudad destino no válida.\")\n",
        "    else:\n",
        "        print(\"Ciudad destino válida.\")\n",
        "        verificacion2 = False\n"
      ]
    },
    {
      "cell_type": "code",
      "execution_count": null,
      "metadata": {
        "id": "FZLCZOtzgra3"
      },
      "outputs": [],
      "source": [
        "#Algoritmo de búsqueda límite de profundidad\n",
        "def DLS(G, start, target, limit,path=[]):\n",
        "  frontier = [(start,0)]\n",
        "  reached = []\n",
        "  while frontier:\n",
        "    node, depth = frontier.pop(0)\n",
        "    reached.append(node)\n",
        "\n",
        "    if node == target:\n",
        "      path.append(node)\n",
        "      return path\n",
        "\n",
        "    elif depth > limit:\n",
        "      return \"cutoff\"\n",
        "\n",
        "    else:\n",
        "      cutoff = False\n",
        "      for neighbor in G.neighbors(node):\n",
        "        if neighbor not in reached:\n",
        "          frontier.append((neighbor,depth+1))\n",
        "          result = DLS(G, neighbor, target, limit - 1, path + [node])\n",
        "          if result == \"cutoff\":\n",
        "              cutoff = True\n",
        "          elif result != \"failure\":\n",
        "              return result\n",
        "\n",
        "      if cutoff:\n",
        "        return \"cutoff\"\n",
        "      else:\n",
        "        return \"failure\"\n",
        "\n",
        "    print(reached)\n",
        "\n",
        "\n",
        "# Entrada de usuario para valores de inicio, objetivo y límite\n",
        "\n",
        "#start = input(\"Ingrese el nodo de inicio: \")\n",
        "start=\"Cozumel\"\n",
        "#start.lower().capitalize()\n",
        "#target = input(\"Ingrese el nodo objetivo: \")\n",
        "target=\"Acapulco\"\n",
        "#target.lower().capitalize()\n",
        "#limit = int(input(\"Ingrese el límite de profundidad: \"))\n",
        "limit=5\n",
        "# Llamada al algoritmo DLS\n",
        "result = DLS(G, start, target, limit)\n",
        "\n",
        "print(\"Resultado de la búsqueda:\", result)"
      ]
    },
    {
      "cell_type": "code",
      "execution_count": null,
      "metadata": {
        "id": "fmrDsoGQbo3z"
      },
      "outputs": [],
      "source": [
        "nx.draw(G, pos=nx.shell_layout(G), with_labels=True,node_size=1200,font_size=8)"
      ]
    },
    {
      "cell_type": "code",
      "execution_count": null,
      "metadata": {
        "id": "IYtSRH45bqNP"
      },
      "outputs": [],
      "source": [
        "# Calcular la disposición de los nodos utilizando spring_layout con una constante de fuerza k\n",
        "pos = nx.spring_layout(G, k=7)\n",
        "nx.draw(G, pos=pos, with_labels=True, node_size=1500, font_size=8)\n",
        "plt.show()\n"
      ]
    }
  ],
  "metadata": {
    "colab": {
      "include_colab_link": true,
      "provenance": []
    },
    "kernelspec": {
      "display_name": "Python 3",
      "name": "python3"
    },
    "language_info": {
      "codemirror_mode": {
        "name": "ipython",
        "version": 3
      },
      "file_extension": ".py",
      "mimetype": "text/x-python",
      "name": "python",
      "nbconvert_exporter": "python",
      "pygments_lexer": "ipython3",
      "version": "3.11.8"
    }
  },
  "nbformat": 4,
  "nbformat_minor": 0
}
