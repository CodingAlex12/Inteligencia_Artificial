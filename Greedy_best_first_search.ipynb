{
  "nbformat": 4,
  "nbformat_minor": 0,
  "metadata": {
    "colab": {
      "provenance": [],
      "authorship_tag": "ABX9TyPW6qbWVKPMTw+UxArZBF4e",
      "include_colab_link": true
    },
    "kernelspec": {
      "name": "python3",
      "display_name": "Python 3"
    },
    "language_info": {
      "name": "python"
    }
  },
  "cells": [
    {
      "cell_type": "markdown",
      "metadata": {
        "id": "view-in-github",
        "colab_type": "text"
      },
      "source": [
        "<a href=\"https://colab.research.google.com/github/CodingAlex12/Inteligencia_Artificial/blob/main/Greedy_best_first_search.ipynb\" target=\"_parent\"><img src=\"https://colab.research.google.com/assets/colab-badge.svg\" alt=\"Open In Colab\"/></a>"
      ]
    },
    {
      "cell_type": "code",
      "execution_count": 1,
      "metadata": {
        "id": "YujhqrmhhiXl"
      },
      "outputs": [],
      "source": [
        "import numpy as np\n",
        "import networkx as nx\n",
        "import matplotlib.pyplot as plt\n",
        "import random"
      ]
    },
    {
      "cell_type": "code",
      "source": [
        "G = nx.DiGraph()\n",
        "G.add_nodes_from(['Cozumel', 'Ciudad del Carmen', 'Angel Albino Corzo', 'Minatitlan', 'Veracruz', 'Acapulco', 'Puebla', 'CDMX', 'Morelia', 'Uruapan',\n",
        "                  'San Luis Potosi', 'Tampico', 'Piedras Negras', 'Culiacan', 'Abraham Gonzalez', 'Nogales', 'Guaymas', 'Loreto', 'Manuel Marquez de Leon'\n",
        "                  , 'Los Cabos'])\n",
        "G.add_edges_from([\n",
        "('Cozumel', 'Tampico', {'weight': 17}),\n",
        "('Ciudad del Carmen', 'Cozumel', {'weight': 15}),\n",
        "('Angel Albino Corzo', 'Ciudad del Carmen', {'weight': 11}),\n",
        "('Angel Albino Corzo', 'Minatitlan', {'weight': 15}),\n",
        "('Angel Albino Corzo', 'Acapulco', {'weight': 1}),\n",
        "('Minatitlan', 'Ciudad del Carmen', {'weight': 16}),\n",
        "('Minatitlan', 'Veracruz', {'weight': 18}),\n",
        "('Acapulco', 'Morelia', {'weight': 14}),\n",
        "('Acapulco', 'Uruapan', {'weight': 14}),\n",
        "('Puebla', 'Veracruz', {'weight': 12}),\n",
        "('Puebla', 'Acapulco', {'weight': 19}),\n",
        "('CDMX', 'Acapulco', {'weight': 4}),\n",
        "('Morelia', 'CDMX', {'weight': 15}),\n",
        "('Morelia', 'San Luis Potosi', {'weight': 11}),\n",
        "('Uruapan', 'Culiacan', {'weight': 15}),\n",
        "('San Luis Potosi', 'Abraham Gonzalez', {'weight': 15}),\n",
        "('Tampico', 'Puebla', {'weight': 7}),\n",
        "('Tampico', 'CDMX', {'weight': 8}),\n",
        "('Tampico', 'San Luis Potosi', {'weight': 11}),\n",
        "('Piedras Negras', 'San Luis Potosi', {'weight': 11}),\n",
        "('Piedras Negras', 'Tampico', {'weight': 16}),\n",
        "('Culiacan', 'Piedras Negras', {'weight': 8}),\n",
        "('Culiacan', 'Guaymas', {'weight': 16}),\n",
        "('Abraham Gonzalez', 'Piedras Negras', {'weight': 15}),\n",
        "('Nogales', 'Abraham Gonzalez', {'weight': 6}),\n",
        "('Guaymas', 'Abraham Gonzalez', {'weight': 18}),\n",
        "('Guaymas', 'Nogales', {'weight': 5}),\n",
        "('Guaymas', 'Loreto', {'weight': 13}),\n",
        "('Loreto', 'Manuel Marquez de Leon', {'weight': 15}),\n",
        "('Manuel Marquez de Leon', 'Culiacan', {'weight': 14}),\n",
        "('Manuel Marquez de Leon', 'Los Cabos', {'weight': 10}),\n",
        "])"
      ],
      "metadata": {
        "id": "xuxpgAnMlL71"
      },
      "execution_count": 2,
      "outputs": []
    },
    {
      "cell_type": "code",
      "source": [
        "np.random.seed(7)\n",
        "matriz = np.random.randint(1,10,(5, 5))\n",
        "\n",
        "#print(matriz)\n"
      ],
      "metadata": {
        "id": "BuLmCRIKiK7c"
      },
      "execution_count": 7,
      "outputs": []
    },
    {
      "cell_type": "code",
      "source": [
        "np.random.seed(7)\n",
        "def generate_h (goal):\n",
        "  h={}\n",
        "  for node in G.nodes():\n",
        "    h[node]=np.random.randint(1,10)\n",
        "    if node == goal :\n",
        "      h[node]=0\n",
        "  h[goal]=0\n",
        "  return h\n",
        "h=generate_h('Los Cabos')\n",
        "print(h)\n"
      ],
      "metadata": {
        "colab": {
          "base_uri": "https://localhost:8080/"
        },
        "id": "D7MCuSbIjJBI",
        "outputId": "39bc5d06-eb55-4f6e-d358-754834954c98"
      },
      "execution_count": 15,
      "outputs": [
        {
          "output_type": "stream",
          "name": "stdout",
          "text": [
            "{'Cozumel': 5, 'Ciudad del Carmen': 7, 'Angel Albino Corzo': 4, 'Minatitlan': 4, 'Veracruz': 8, 'Acapulco': 8, 'Puebla': 8, 'CDMX': 9, 'Morelia': 9, 'Uruapan': 8, 'San Luis Potosi': 7, 'Tampico': 5, 'Piedras Negras': 1, 'Culiacan': 8, 'Abraham Gonzalez': 1, 'Nogales': 8, 'Guaymas': 7, 'Loreto': 4, 'Manuel Marquez de Leon': 6, 'Los Cabos': 0}\n"
          ]
        }
      ]
    },
    {
      "cell_type": "code",
      "source": [
        "#Algoritmo de búsqueda\n",
        "def greedy(G, start = 'Cozumel', goal = 'San Luis Potosi'):\n",
        "  Q = [start]\n",
        "  while Q:\n",
        "    current_node = Q.pop(0)\n",
        "\n",
        "    if current_node == goal:\n",
        "      return 'Success'\n",
        "    else:\n",
        "      for v in G.successors(current_node):\n",
        "        Q.append(v)\n",
        "        print(Q)\n",
        "\n"
      ],
      "metadata": {
        "id": "2ngvxBBCpmOe"
      },
      "execution_count": 17,
      "outputs": []
    },
    {
      "cell_type": "code",
      "source": [
        "greedy(G, start='Cozumel', goal='San Luis Potosi')"
      ],
      "metadata": {
        "colab": {
          "base_uri": "https://localhost:8080/",
          "height": 157
        },
        "id": "K8CYPEbGqx5w",
        "outputId": "6e7660dd-f5d6-4aa9-fa1b-c396a63ed66a"
      },
      "execution_count": 18,
      "outputs": [
        {
          "output_type": "stream",
          "name": "stdout",
          "text": [
            "['Tampico']\n",
            "['Puebla']\n",
            "['Puebla', 'CDMX']\n",
            "['Puebla', 'CDMX', 'San Luis Potosi']\n",
            "['CDMX', 'San Luis Potosi', 'Veracruz']\n",
            "['CDMX', 'San Luis Potosi', 'Veracruz', 'Acapulco']\n",
            "['San Luis Potosi', 'Veracruz', 'Acapulco', 'Acapulco']\n"
          ]
        },
        {
          "output_type": "execute_result",
          "data": {
            "text/plain": [
              "'Success'"
            ],
            "application/vnd.google.colaboratory.intrinsic+json": {
              "type": "string"
            }
          },
          "metadata": {},
          "execution_count": 18
        }
      ]
    },
    {
      "cell_type": "code",
      "source": [],
      "metadata": {
        "id": "IObbJyTMrb1R"
      },
      "execution_count": null,
      "outputs": []
    }
  ]
}