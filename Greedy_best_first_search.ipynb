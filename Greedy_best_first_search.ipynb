{
  "cells": [
    {
      "cell_type": "markdown",
      "metadata": {
        "colab_type": "text",
        "id": "view-in-github"
      },
      "source": [
        "<a href=\"https://colab.research.google.com/github/CodingAlex12/Inteligencia_Artificial/blob/main/Greedy_best_first_search.ipynb\" target=\"_parent\"><img src=\"https://colab.research.google.com/assets/colab-badge.svg\" alt=\"Open In Colab\"/></a>"
      ]
    },
    {
      "cell_type": "code",
      "execution_count": 2,
      "metadata": {
        "id": "YujhqrmhhiXl"
      },
      "outputs": [],
      "source": [
        "import numpy as np\n",
        "import networkx as nx\n",
        "import matplotlib.pyplot as plt\n",
        "import random"
      ]
    },
    {
      "cell_type": "code",
      "execution_count": 3,
      "metadata": {
        "id": "xuxpgAnMlL71"
      },
      "outputs": [],
      "source": [
        "G = nx.DiGraph()\n",
        "G.add_nodes_from(['Cozumel', 'Ciudad del Carmen', 'Angel Albino Corzo', 'Minatitlan', 'Veracruz', 'Acapulco', 'Puebla', 'CDMX', 'Morelia', 'Uruapan',\n",
        "                'San Luis Potosi', 'Tampico', 'Piedras Negras', 'Culiacan', 'Abraham Gonzalez', 'Nogales', 'Guaymas', 'Loreto', 'Manuel Marquez de Leon'\n",
        "                , 'Los Cabos'])\n",
        "G.add_edges_from([\n",
        "('Cozumel', 'Tampico', {'weight': 17}),\n",
        "('Ciudad del Carmen', 'Cozumel', {'weight': 15}),\n",
        "('Angel Albino Corzo', 'Ciudad del Carmen', {'weight': 11}),\n",
        "('Angel Albino Corzo', 'Minatitlan', {'weight': 15}),\n",
        "('Angel Albino Corzo', 'Acapulco', {'weight': 1}),\n",
        "('Minatitlan', 'Ciudad del Carmen', {'weight': 16}),\n",
        "('Minatitlan', 'Veracruz', {'weight': 18}),\n",
        "('Acapulco', 'Morelia', {'weight': 14}),\n",
        "('Acapulco', 'Uruapan', {'weight': 14}),\n",
        "('Puebla', 'Veracruz', {'weight': 12}),\n",
        "('Puebla', 'Acapulco', {'weight': 19}),\n",
        "('CDMX', 'Acapulco', {'weight': 4}),\n",
        "('Morelia', 'CDMX', {'weight': 15}),\n",
        "('Morelia', 'San Luis Potosi', {'weight': 11}),\n",
        "('Uruapan', 'Culiacan', {'weight': 15}),\n",
        "('San Luis Potosi', 'Abraham Gonzalez', {'weight': 15}),\n",
        "('Tampico', 'Puebla', {'weight': 7}),\n",
        "('Tampico', 'CDMX', {'weight': 8}),\n",
        "('Tampico', 'San Luis Potosi', {'weight': 11}),\n",
        "('Piedras Negras', 'San Luis Potosi', {'weight': 11}),\n",
        "('Piedras Negras', 'Tampico', {'weight': 16}),\n",
        "('Culiacan', 'Piedras Negras', {'weight': 8}),\n",
        "('Culiacan', 'Guaymas', {'weight': 16}),\n",
        "('Abraham Gonzalez', 'Piedras Negras', {'weight': 15}),\n",
        "('Nogales', 'Abraham Gonzalez', {'weight': 6}),\n",
        "('Guaymas', 'Abraham Gonzalez', {'weight': 18}),\n",
        "('Guaymas', 'Nogales', {'weight': 5}),\n",
        "('Guaymas', 'Loreto', {'weight': 13}),\n",
        "('Loreto', 'Manuel Marquez de Leon', {'weight': 15}),\n",
        "('Manuel Marquez de Leon', 'Culiacan', {'weight': 14}),\n",
        "('Manuel Marquez de Leon', 'Los Cabos', {'weight': 10}),\n",
        "])"
      ]
    },
    {
      "cell_type": "code",
      "execution_count": null,
      "metadata": {
        "id": "BuLmCRIKiK7c"
      },
      "outputs": [],
      "source": [
        "np.random.seed(7)\n",
        "matriz = np.random.randint(1,10,(5, 5))\n",
        "\n",
        "#print(matriz)\n"
      ]
    },
    {
      "cell_type": "code",
      "execution_count": null,
      "metadata": {
        "colab": {
          "base_uri": "https://localhost:8080/"
        },
        "id": "D7MCuSbIjJBI",
        "outputId": "39bc5d06-eb55-4f6e-d358-754834954c98"
      },
      "outputs": [
        {
          "name": "stdout",
          "output_type": "stream",
          "text": [
            "{'Cozumel': 5, 'Ciudad del Carmen': 7, 'Angel Albino Corzo': 4, 'Minatitlan': 4, 'Veracruz': 8, 'Acapulco': 8, 'Puebla': 8, 'CDMX': 9, 'Morelia': 9, 'Uruapan': 8, 'San Luis Potosi': 7, 'Tampico': 5, 'Piedras Negras': 1, 'Culiacan': 8, 'Abraham Gonzalez': 1, 'Nogales': 8, 'Guaymas': 7, 'Loreto': 4, 'Manuel Marquez de Leon': 6, 'Los Cabos': 0}\n"
          ]
        }
      ],
      "source": [
        "np.random.seed(7)\n",
        "def generate_h (goal):\n",
        "  h={}\n",
        "  for node in G.nodes():\n",
        "    h[node]=np.random.randint(1,10)\n",
        "    if node == goal :\n",
        "      h[node]=0\n",
        "  h[goal]=0\n",
        "  return h\n",
        "h=generate_h('Los Cabos')\n",
        "print(h)\n"
      ]
    },
    {
      "cell_type": "code",
      "execution_count": null,
      "metadata": {
        "id": "2ngvxBBCpmOe"
      },
      "outputs": [],
      "source": [
        "#Algoritmo de búsqueda\n",
        "def greedy(G, start = 'Cozumel', goal = 'San Luis Potosi'):\n",
        "  Q = [start]\n",
        "  while Q:\n",
        "    current_node = Q.pop(0)\n",
        "\n",
        "    if current_node == goal:\n",
        "      return 'Success'\n",
        "    else:\n",
        "      for v in G.successors(current_node):\n",
        "        Q.append(v)\n",
        "        print(Q)\n",
        "\n"
      ]
    },
    {
      "cell_type": "code",
      "execution_count": null,
      "metadata": {
        "colab": {
          "base_uri": "https://localhost:8080/",
          "height": 157
        },
        "id": "K8CYPEbGqx5w",
        "outputId": "6e7660dd-f5d6-4aa9-fa1b-c396a63ed66a"
      },
      "outputs": [
        {
          "name": "stdout",
          "output_type": "stream",
          "text": [
            "['Tampico']\n",
            "['Puebla']\n",
            "['Puebla', 'CDMX']\n",
            "['Puebla', 'CDMX', 'San Luis Potosi']\n",
            "['CDMX', 'San Luis Potosi', 'Veracruz']\n",
            "['CDMX', 'San Luis Potosi', 'Veracruz', 'Acapulco']\n",
            "['San Luis Potosi', 'Veracruz', 'Acapulco', 'Acapulco']\n"
          ]
        },
        {
          "data": {
            "application/vnd.google.colaboratory.intrinsic+json": {
              "type": "string"
            },
            "text/plain": [
              "'Success'"
            ]
          },
          "execution_count": 18,
          "metadata": {},
          "output_type": "execute_result"
        }
      ],
      "source": [
        "greedy(G, start='Cozumel', goal='San Luis Potosi')"
      ]
    },
    {
      "cell_type": "code",
      "execution_count": 9,
      "metadata": {
        "colab": {
          "base_uri": "https://localhost:8080/"
        },
        "id": "1I98UPzaZKMI",
        "outputId": "4c27ccd1-3fe4-446c-9b71-c8c88b1ef881"
      },
      "outputs": [
        {
          "name": "stdout",
          "output_type": "stream",
          "text": [
            "Ingrese la ciudad origen   Cozumel\n",
            "Entrada Valida \n",
            "Ingrese la ciudad destino   Acapulco\n",
            "Destino Valido \n"
          ]
        }
      ],
      "source": [
        "verificacion1 = True\n",
        "verificacion2 = True\n",
        "while verificacion1:\n",
        "  entrada=input(\"Ingrese la ciudad origen   \")\n",
        "  if entrada not in G.nodes:\n",
        "    print(\"Entrada Invalida \")\n",
        "  elif entrada in G.nodes:\n",
        "    print(\"Entrada Valida \")\n",
        "    verificacion1=False\n",
        "while verificacion2:\n",
        "  salida=input(\"Ingrese la ciudad destino   \")\n",
        "  if salida not in G.nodes:\n",
        "    print(\"Destino Invalido \")\n",
        "  elif salida in G.nodes:\n",
        "    print(\"Destino Valido \")\n",
        "    verificacion2=False\n",
        "\n",
        "\n",
        "\n",
        "\n",
        "\n"
      ]
    },
    {
      "cell_type": "code",
      "execution_count": 11,
      "metadata": {
        "colab": {
          "base_uri": "https://localhost:8080/"
        },
        "id": "KU_sfPo0ZlA7",
        "outputId": "15847090-c639-4c0e-e212-2ee3e8d63294"
      },
      "outputs": [
        {
          "name": "stdout",
          "output_type": "stream",
          "text": [
            "Ingrese la ciudad origen: cozumeñ\n",
            "Ciudad de origen no válida.\n",
            "Ingrese la ciudad origen: cozumel\n",
            "Ciudad de origen válida.\n",
            "Ingrese la ciudad destino: Angel Albino Corzo\n",
            "Ciudad destino válida.\n"
          ]
        }
      ],
      "source": [
        "verificacion1 = True\n",
        "verificacion2 = True\n",
        "\n",
        "while verificacion1:\n",
        "    entrada = input(\"Ingrese la ciudad origen: \")\n",
        "    if entrada.lower() not in map(str.lower, G.nodes): #implementación de .lower para hacer la entrada minusculas para su comparación\n",
        "        print(\"Ciudad de origen no válida.\")           #implementacion de \"map\" que usa como primer valor una función y como segundo valor las secuencias (listas, tuplas, conjuntos, grafos )\n",
        "    else:\n",
        "        print(\"Ciudad de origen válida.\")\n",
        "        verificacion1 = False\n",
        "\n",
        "while verificacion2:\n",
        "    salida = input(\"Ingrese la ciudad destino: \")\n",
        "    if salida.lower() not in map(str.lower, G.nodes):\n",
        "        print(\"Ciudad destino no válida.\")\n",
        "    else:\n",
        "        print(\"Ciudad destino válida.\")\n",
        "        verificacion2 = False\n"
      ]
    }
  ],
  "metadata": {
    "colab": {
      "authorship_tag": "ABX9TyMfWM2yioUUUBWsRkCSpIne",
      "include_colab_link": true,
      "provenance": []
    },
    "kernelspec": {
      "display_name": "Python 3",
      "name": "python3"
    },
    "language_info": {
      "name": "python"
    }
  },
  "nbformat": 4,
  "nbformat_minor": 0
}
