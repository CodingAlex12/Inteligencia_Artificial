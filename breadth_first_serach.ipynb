{
  "nbformat": 4,
  "nbformat_minor": 0,
  "metadata": {
    "colab": {
      "provenance": [],
      "include_colab_link": true
    },
    "kernelspec": {
      "name": "python3",
      "display_name": "Python 3"
    },
    "language_info": {
      "name": "python"
    }
  },
  "cells": [
    {
      "cell_type": "markdown",
      "metadata": {
        "id": "view-in-github",
        "colab_type": "text"
      },
      "source": [
        "<a href=\"https://colab.research.google.com/github/CodingAlex12/Inteligencia_Artificial/blob/main/breadth_first_serach.ipynb\" target=\"_parent\"><img src=\"https://colab.research.google.com/assets/colab-badge.svg\" alt=\"Open In Colab\"/></a>"
      ]
    },
    {
      "cell_type": "code",
      "execution_count": 1,
      "metadata": {
        "id": "dARVAgsNrUKR"
      },
      "outputs": [],
      "source": [
        "import networkx as nx"
      ]
    },
    {
      "cell_type": "code",
      "source": [
        "G = nx.DiGraph()"
      ],
      "metadata": {
        "id": "LFz80rJhrhfE"
      },
      "execution_count": 2,
      "outputs": []
    },
    {
      "cell_type": "code",
      "source": [
        "G.add_nodes_from(['Cozumel', 'Ciudad del Carmen', 'Angel Albino Corzo', 'Minatitlan', 'Veracruz', 'Acapulco', 'Puebla', 'CDMX', 'Morelia', 'Uruapan',\n",
        "                'San Luis Potosi', 'Tampico', 'Piedras Negras', 'Culiacan', 'Abraham Gonzalez', 'Nogales', 'Guaymas', 'Loreto', 'Manuel Marquez de Leon'\n",
        "                , 'Los Cabos'])"
      ],
      "metadata": {
        "id": "padcqA62rka8"
      },
      "execution_count": 3,
      "outputs": []
    },
    {
      "cell_type": "code",
      "source": [
        "G.add_edges_from([\n",
        "('Cozumel', 'Tampico', {'weight': 17}),\n",
        "('Ciudad del Carmen', 'Cozumel', {'weight': 15}),\n",
        "('Angel Albino Corzo', 'Ciudad del Carmen', {'weight': 11}),\n",
        "('Angel Albino Corzo', 'Minatitlan', {'weight': 15}),\n",
        "('Angel Albino Corzo', 'Acapulco', {'weight': 1}),\n",
        "('Minatitlan', 'Ciudad del Carmen', {'weight': 16}),\n",
        "('Minatitlan', 'Veracruz', {'weight': 18}),\n",
        "('Acapulco', 'Morelia', {'weight': 14}),\n",
        "('Acapulco', 'Uruapan', {'weight': 14}),\n",
        "('Puebla', 'Veracruz', {'weight': 12}),\n",
        "('Puebla', 'Acapulco', {'weight': 19}),\n",
        "('CDMX', 'Acapulco', {'weight': 4}),\n",
        "('Morelia', 'CDMX', {'weight': 15}),\n",
        "('Morelia', 'San Luis Potosi', {'weight': 11}),\n",
        "('Uruapan', 'Culiacan', {'weight': 15}),\n",
        "('San Luis Potosi', 'Abraham Gonzalez', {'weight': 15}),\n",
        "('Tampico', 'Puebla', {'weight': 7}),\n",
        "('Tampico', 'CDMX', {'weight': 8}),\n",
        "('Tampico', 'San Luis Potosi', {'weight': 11}),\n",
        "('Piedras Negras', 'San Luis Potosi', {'weight': 11}),\n",
        "('Piedras Negras', 'Tampico', {'weight': 16}),\n",
        "('Culiacan', 'Piedras Negras', {'weight': 8}),\n",
        "('Culiacan', 'Guaymas', {'weight': 16}),\n",
        "('Abraham Gonzalez', 'Piedras Negras', {'weight': 15}),\n",
        "('Nogales', 'Abraham Gonzalez', {'weight': 6}),\n",
        "('Guaymas', 'Abraham Gonzalez', {'weight': 18}),\n",
        "('Guaymas', 'Nogales', {'weight': 5}),\n",
        "('Guaymas', 'Loreto', {'weight': 13}),\n",
        "('Loreto', 'Manuel Marquez de Leon', {'weight': 15}),\n",
        "('Manuel Marquez de Leon', 'Culiacan', {'weight': 14}),\n",
        "('Manuel Marquez de Leon', 'Los Cabos', {'weight': 10}),\n",
        "])"
      ],
      "metadata": {
        "id": "X_mOzuLNrlFT"
      },
      "execution_count": 4,
      "outputs": []
    },
    {
      "cell_type": "code",
      "source": [
        "def bfs(G, start_node, target_node):\n",
        "    start_node = start_node.capitalize()  # Convertir primer letra a mayúscula\n",
        "    target_node = target_node.capitalize()  # Convertir primer letra a mayúscula\n",
        "\n",
        "    if start_node not in G.nodes or target_node not in G.nodes:\n",
        "        print(\"Error: Los nodos de inicio y objetivo deben estar en el grafo.\")\n",
        "        return None\n",
        "\n",
        "    frontier = [start_node]\n",
        "    reached = []\n",
        "\n",
        "    while frontier:\n",
        "        node = frontier.pop(0)\n",
        "        reached.append(node)\n",
        "\n",
        "        if node == target_node:\n",
        "            return reached\n",
        "\n",
        "        for successor in G.successors(node):\n",
        "            if successor not in reached and successor not in frontier:\n",
        "                frontier.append(successor)\n",
        "\n",
        "    print(\"No se encontró un camino desde {} hasta {}.\".format(start_node, target_node))\n",
        "    return None\n",
        "\n",
        "    start_node = input(\"Ingrese el nodo de inicio: \")\n",
        "    target_node = input(\"Ingrese el nodo objetivo: \")\n",
        "\n",
        "    path = bfs(G, start_node, target_node)\n",
        "\n",
        "    if path:\n",
        "        print(\"Camino encontrado:\", path)\n"
      ],
      "metadata": {
        "id": "o_IxtU3jr1u8"
      },
      "execution_count": 5,
      "outputs": []
    },
    {
      "cell_type": "code",
      "source": [
        "bfs(G,\"Cozumel\",\"Acapulco\")"
      ],
      "metadata": {
        "colab": {
          "base_uri": "https://localhost:8080/"
        },
        "id": "4tmIpvtBmXE0",
        "outputId": "52afa635-3e6f-4c79-a1bf-a5c4fc4947f4"
      },
      "execution_count": 9,
      "outputs": [
        {
          "output_type": "execute_result",
          "data": {
            "text/plain": [
              "['Cozumel',\n",
              " 'Tampico',\n",
              " 'Puebla',\n",
              " 'CDMX',\n",
              " 'San Luis Potosi',\n",
              " 'Veracruz',\n",
              " 'Acapulco']"
            ]
          },
          "metadata": {},
          "execution_count": 9
        }
      ]
    },
    {
      "cell_type": "code",
      "source": [],
      "metadata": {
        "id": "AJT-x1jqmfAj"
      },
      "execution_count": null,
      "outputs": []
    }
  ]
}