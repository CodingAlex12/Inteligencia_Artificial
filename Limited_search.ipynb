{
  "nbformat": 4,
  "nbformat_minor": 0,
  "metadata": {
    "colab": {
      "provenance": [],
      "authorship_tag": "ABX9TyN04XvZqn3vvYKgJxiIKOKf",
      "include_colab_link": true
    },
    "kernelspec": {
      "name": "python3",
      "display_name": "Python 3"
    },
    "language_info": {
      "name": "python"
    }
  },
  "cells": [
    {
      "cell_type": "markdown",
      "metadata": {
        "id": "view-in-github",
        "colab_type": "text"
      },
      "source": [
        "<a href=\"https://colab.research.google.com/github/CodingAlex12/Inteligencia_Artificial/blob/main/Limited_search.ipynb\" target=\"_parent\"><img src=\"https://colab.research.google.com/assets/colab-badge.svg\" alt=\"Open In Colab\"/></a>"
      ]
    },
    {
      "cell_type": "code",
      "source": [
        "import networkx as nx\n",
        "import warnings\n",
        "import matplotlib.pyplot as plt"
      ],
      "metadata": {
        "id": "fJmgZ_xYPI4S"
      },
      "execution_count": 2,
      "outputs": []
    },
    {
      "cell_type": "code",
      "source": [
        "Gr = nx.DiGraph()\n",
        "Gr.add_nodes_from([\"Cozumel\",\"San Luis Potosi\",\"Ciudad del Carmen\",\"Tampico\",\"Angel Albino Corzo\" ,\"Piedras Negras\" ,\"Minatitlan\" ,\"Culiacan\",\n",
        "                  \"Veracruz\" ,\"Abraham Gonzalez\",\"Acapulco\",\"Nogales\",\"Puebla\",\"Guaymas\",\"Morelia\",\"Manuel Marquez de Leon\",\"Uruapan\",\"Los Cabos\"])\n",
        "\n",
        "Gr.add_edges_from([\n",
        "('Cozumel', 'Tampico', {'weight': 17}),\n",
        "('Ciudad del Carmen', 'Cozumel', {'weight': 15}),\n",
        "('Angel Albino Corzo', 'Ciudad del Carmen', {'weight': 11}),\n",
        "('Angel Albino Corzo', 'Minatitlan', {'weight': 15}),\n",
        "('Angel Albino Corzo', 'Acapulco', {'weight': 1}),\n",
        "('Minatitlan', 'Ciudad del Carmen', {'weight': 16}),\n",
        "('Minatitlan', 'Veracruz', {'weight': 18}),\n",
        "('Acapulco', 'Morelia', {'weight': 14}),\n",
        "('Acapulco', 'Uruapan', {'weight': 14}),\n",
        "('Puebla', 'Veracruz', {'weight': 12}),\n",
        "('Puebla', 'Acapulco', {'weight': 19}),\n",
        "('CDMX', 'Acapulco', {'weight': 4}),\n",
        "('Morelia', 'CDMX', {'weight': 15}),\n",
        "('Morelia', 'San Luis Potosi', {'weight': 11}),\n",
        "('Uruapan', 'Culiacan', {'weight': 15}),\n",
        "('San Luis Potosi', 'Abraham Gonzalez', {'weight': 15}),\n",
        "('Tampico', 'Puebla', {'weight': 7}),\n",
        "('Tampico', 'CDMX', {'weight': 8}),\n",
        "('Tampico', 'San Luis Potosi', {'weight': 11}),\n",
        "('Piedras Negras', 'San Luis Potosi', {'weight': 11}),\n",
        "('Piedras Negras', 'Tampico', {'weight': 16}),\n",
        "('Culiacan', 'Piedras Negras', {'weight': 8}),\n",
        "('Culiacan', 'Guaymas', {'weight': 16}),\n",
        "('Abraham Gonzalez', 'Piedras Negras', {'weight': 15}),\n",
        "('Nogales', 'Abraham Gonzalez', {'weight': 6}),\n",
        "('Guaymas', 'Abraham Gonzalez', {'weight': 18}),\n",
        "('Guaymas', 'Nogales', {'weight': 5}),\n",
        "('Guaymas', 'Loreto', {'weight': 13}),\n",
        "('Loreto', 'Manuel Marquez de Leon', {'weight': 15}),\n",
        "('Manuel Marquez de Leon', 'Culiacan', {'weight': 14}),\n",
        "('Manuel Marquez de Leon', 'Los Cabos', {'weight': 10}),\n",
        "])\n"
      ],
      "metadata": {
        "id": "QWtPNX7mPDM7"
      },
      "execution_count": 3,
      "outputs": []
    },
    {
      "cell_type": "code",
      "execution_count": 9,
      "metadata": {
        "colab": {
          "base_uri": "https://localhost:8080/"
        },
        "id": "tGeHqlEiOrmN",
        "outputId": "a04139f1-624b-463d-d619-66cda69e3c60"
      },
      "outputs": [
        {
          "output_type": "stream",
          "name": "stdout",
          "text": [
            "Ingrese el nodo de inicio: Cozumel\n",
            "Ingrese el nodo objetivo: Acapulco\n",
            "Ingrese el límite de profundidad: 5\n",
            "Resultado de la búsqueda: reached\n"
          ]
        }
      ],
      "source": [
        "#Algoritmo de búsqueda límite de profundidad\n",
        "def DLS(Gr, start, target, limit):\n",
        "  frontier = [(start,0)]\n",
        "  reached = []\n",
        "\n",
        "  while frontier:\n",
        "    node,depth = frontier.pop(0)\n",
        "    reached.append(node)\n",
        "\n",
        "    if node == target:\n",
        "        return \"reached\"\n",
        "\n",
        "    elif depth > limit:\n",
        "        return \"cutoff\"\n",
        "\n",
        "    else:\n",
        "      cutoff = False\n",
        "\n",
        "      for neighbor in Gr.neighbors(node):\n",
        "        if neighbor not in reached:\n",
        "          frontier.append((neighbor,depth+1))\n",
        "          result = DLS(Gr, neighbor, target, limit - 1)\n",
        "          if result == \"cutoff\":\n",
        "              cutoff = True\n",
        "          elif result != \"failure\":\n",
        "              return result\n",
        "\n",
        "      if cutoff:\n",
        "        return \"cutoff\"\n",
        "      else:\n",
        "        return \"failure\"\n",
        "\n",
        "# Entrada de usuario para valores de inicio, objetivo y límite\n",
        "start = input(\"Ingrese el nodo de inicio: \")\n",
        "start.lower().capitalize()\n",
        "target = input(\"Ingrese el nodo objetivo: \")\n",
        "target.lower().capitalize()\n",
        "limit = int(input(\"Ingrese el límite de profundidad: \"))\n",
        "\n",
        "# Llamada al algoritmo DLS\n",
        "result = DLS(Gr, start, target, limit)\n",
        "\n",
        "print(\"Resultado de la búsqueda:\", result)"
      ]
    }
  ]
}