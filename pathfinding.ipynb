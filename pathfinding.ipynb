{
  "cells": [
    {
      "cell_type": "markdown",
      "metadata": {
        "id": "tMOGgEq-uScY"
      },
      "source": [
        "# Comparing Algorithms: A* vs Dijkstra on the City's Map"
      ]
    },
    {
      "cell_type": "code",
      "execution_count": null,
      "metadata": {
        "id": "0pvGzqC5uSca"
      },
      "outputs": [],
      "source": [
        "import osmnx as ox\n",
        "import random\n",
        "import heapq"
      ]
    },
    {
      "cell_type": "markdown",
      "metadata": {
        "id": "efDpcMoVuScb"
      },
      "source": [
        "### Importing and cleaning the map"
      ]
    },
    {
      "cell_type": "code",
      "execution_count": null,
      "metadata": {
        "id": "R9OY-O01uScb"
      },
      "outputs": [],
      "source": [
        "place_name = \"Capital Federal, Argentina\"\n",
        "G = ox.graph_from_place(place_name, network_type=\"drive\")"
      ]
    },
    {
      "cell_type": "code",
      "execution_count": null,
      "metadata": {
        "id": "B2u8DOWtuScb"
      },
      "outputs": [],
      "source": [
        "for edge in G.edges:\n",
        "    # Cleaning the \"maxspeed\" attribute, some values are lists, some are strings, some are None\n",
        "    maxspeed = 40\n",
        "    if \"maxspeed\" in G.edges[edge]:\n",
        "        maxspeed = G.edges[edge][\"maxspeed\"]\n",
        "        if type(maxspeed) == list:\n",
        "            speeds = [ int(speed) for speed in maxspeed ]\n",
        "            maxspeed = min(speeds)\n",
        "        elif type(maxspeed) == str:\n",
        "            maxspeed = int(maxspeed)\n",
        "    G.edges[edge][\"maxspeed\"] = maxspeed\n",
        "    # Adding the \"weight\" attribute (time = distance / speed)\n",
        "    G.edges[edge][\"weight\"] = G.edges[edge][\"length\"] / maxspeed"
      ]
    },
    {
      "cell_type": "markdown",
      "metadata": {
        "id": "iMFZtEO3uScb"
      },
      "source": [
        "### Visual utils"
      ]
    },
    {
      "cell_type": "code",
      "execution_count": null,
      "metadata": {
        "id": "DpHjVsOxuScc"
      },
      "outputs": [],
      "source": [
        "def style_unvisited_edge(edge):\n",
        "    G.edges[edge][\"color\"] = \"#d36206\"\n",
        "    G.edges[edge][\"alpha\"] = 0.2\n",
        "    G.edges[edge][\"linewidth\"] = 0.5\n",
        "\n",
        "def style_visited_edge(edge):\n",
        "    G.edges[edge][\"color\"] = \"#d36206\"\n",
        "    G.edges[edge][\"alpha\"] = 1\n",
        "    G.edges[edge][\"linewidth\"] = 1\n",
        "\n",
        "def style_active_edge(edge):\n",
        "    G.edges[edge][\"color\"] = '#e8a900'\n",
        "    G.edges[edge][\"alpha\"] = 1\n",
        "    G.edges[edge][\"linewidth\"] = 1\n",
        "\n",
        "def style_path_edge(edge):\n",
        "    G.edges[edge][\"color\"] = \"white\"\n",
        "    G.edges[edge][\"alpha\"] = 1\n",
        "    G.edges[edge][\"linewidth\"] = 1"
      ]
    },
    {
      "cell_type": "code",
      "execution_count": null,
      "metadata": {
        "id": "2bg0gVBkuScc"
      },
      "outputs": [],
      "source": [
        "def plot_graph():\n",
        "    ox.plot_graph(\n",
        "        G,\n",
        "        node_size =  [ G.nodes[node][\"size\"] for node in G.nodes ],\n",
        "        edge_color = [ G.edges[edge][\"color\"] for edge in G.edges ],\n",
        "        edge_alpha = [ G.edges[edge][\"alpha\"] for edge in G.edges ],\n",
        "        edge_linewidth = [ G.edges[edge][\"linewidth\"] for edge in G.edges ],\n",
        "        node_color = \"white\",\n",
        "        bgcolor = \"#18080e\"\n",
        "    )"
      ]
    },
    {
      "cell_type": "code",
      "execution_count": null,
      "metadata": {
        "id": "FPXBvSAEuScc"
      },
      "outputs": [],
      "source": [
        "def plot_heatmap(algorithm):\n",
        "    edge_colors = ox.plot.get_edge_colors_by_attr(G, f\"{algorithm}_uses\", cmap=\"hot\")\n",
        "    fig, _ = ox.plot_graph(\n",
        "        G,\n",
        "        node_size = 0,\n",
        "        edge_color = edge_colors,\n",
        "        bgcolor = \"#18080e\"\n",
        "    )"
      ]
    },
    {
      "cell_type": "markdown",
      "metadata": {
        "id": "vb2CGVHYuScc"
      },
      "source": [
        "## Algorithms implementation"
      ]
    },
    {
      "cell_type": "code",
      "execution_count": null,
      "metadata": {
        "id": "GZiJq1_0uScd"
      },
      "outputs": [],
      "source": [
        "def dijkstra(orig, dest, plot=False):\n",
        "    for node in G.nodes:\n",
        "        G.nodes[node][\"visited\"] = False\n",
        "        G.nodes[node][\"distance\"] = float(\"inf\")\n",
        "        G.nodes[node][\"previous\"] = None\n",
        "        G.nodes[node][\"size\"] = 0\n",
        "    for edge in G.edges:\n",
        "        style_unvisited_edge(edge)\n",
        "    G.nodes[orig][\"distance\"] = 0\n",
        "    G.nodes[orig][\"size\"] = 50\n",
        "    G.nodes[dest][\"size\"] = 50\n",
        "    pq = [(0, orig)]\n",
        "    step = 0\n",
        "    while pq:\n",
        "        _, node = heapq.heappop(pq)\n",
        "        if node == dest:\n",
        "            if plot:\n",
        "                print(\"Iteraciones:\", step)\n",
        "                plot_graph()\n",
        "            return\n",
        "        if G.nodes[node][\"visited\"]: continue\n",
        "        G.nodes[node][\"visited\"] = True\n",
        "        for edge in G.out_edges(node):\n",
        "            style_visited_edge((edge[0], edge[1], 0))\n",
        "            neighbor = edge[1]\n",
        "            weight = G.edges[(edge[0], edge[1], 0)][\"weight\"]\n",
        "            if G.nodes[neighbor][\"distance\"] > G.nodes[node][\"distance\"] + weight:\n",
        "                G.nodes[neighbor][\"distance\"] = G.nodes[node][\"distance\"] + weight\n",
        "                G.nodes[neighbor][\"previous\"] = node\n",
        "                heapq.heappush(pq, (G.nodes[neighbor][\"distance\"], neighbor))\n",
        "                for edge2 in G.out_edges(neighbor):\n",
        "                    style_active_edge((edge2[0], edge2[1], 0))\n",
        "        step += 1"
      ]
    },
    {
      "cell_type": "code",
      "execution_count": null,
      "metadata": {
        "id": "HPGyXFSguScd"
      },
      "outputs": [],
      "source": [
        "def distance(node1, node2):\n",
        "    x1, y1 = G.nodes[node1][\"x\"], G.nodes[node1][\"y\"]\n",
        "    x2, y2 = G.nodes[node2][\"x\"], G.nodes[node2][\"y\"]\n",
        "    return ((x2 - x1)**2 + (y2 - y1)**2)**0.5\n",
        "\n",
        "def a_star(orig, dest, plot=False):\n",
        "    for node in G.nodes:\n",
        "        G.nodes[node][\"previous\"] = None\n",
        "        G.nodes[node][\"size\"] = 0\n",
        "        G.nodes[node][\"g_score\"] = float(\"inf\")\n",
        "        G.nodes[node][\"f_score\"] = float(\"inf\")\n",
        "    for edge in G.edges:\n",
        "        style_unvisited_edge(edge)\n",
        "    G.nodes[orig][\"size\"] = 50\n",
        "    G.nodes[dest][\"size\"] = 50\n",
        "    G.nodes[orig][\"g_score\"] = 0\n",
        "    G.nodes[orig][\"f_score\"] = distance(orig, dest)\n",
        "    pq = [(G.nodes[orig][\"f_score\"], orig)]\n",
        "    step = 0\n",
        "    while pq:\n",
        "        _, node = heapq.heappop(pq)\n",
        "        if node == dest:\n",
        "            if plot:\n",
        "                print(\"Iteraciones:\", step)\n",
        "                plot_graph()\n",
        "            return\n",
        "        for edge in G.out_edges(node):\n",
        "            style_visited_edge((edge[0], edge[1], 0))\n",
        "            neighbor = edge[1]\n",
        "            tentative_g_score = G.nodes[node][\"g_score\"] + distance(node, neighbor)\n",
        "            if tentative_g_score < G.nodes[neighbor][\"g_score\"]:\n",
        "                G.nodes[neighbor][\"previous\"] = node\n",
        "                G.nodes[neighbor][\"g_score\"] = tentative_g_score\n",
        "                G.nodes[neighbor][\"f_score\"] = tentative_g_score + distance(neighbor, dest)\n",
        "                heapq.heappush(pq, (G.nodes[neighbor][\"f_score\"], neighbor))\n",
        "                for edge2 in G.out_edges(neighbor):\n",
        "                    style_active_edge((edge2[0], edge2[1], 0))\n",
        "        step += 1"
      ]
    },
    {
      "cell_type": "code",
      "execution_count": null,
      "metadata": {
        "id": "JDwi3XVZuScd"
      },
      "outputs": [],
      "source": [
        "def reconstruct_path(orig, dest, plot=False, algorithm=None):\n",
        "    for edge in G.edges:\n",
        "        style_unvisited_edge(edge)\n",
        "    dist = 0\n",
        "    speeds = []\n",
        "    curr = dest\n",
        "    while curr != orig:\n",
        "        prev = G.nodes[curr][\"previous\"]\n",
        "        dist += G.edges[(prev, curr, 0)][\"length\"]\n",
        "        speeds.append(G.edges[(prev, curr, 0)][\"maxspeed\"])\n",
        "        style_path_edge((prev, curr, 0))\n",
        "        if algorithm:\n",
        "            G.edges[(prev, curr, 0)][f\"{algorithm}_uses\"] = G.edges[(prev, curr, 0)].get(f\"{algorithm}_uses\", 0) + 1\n",
        "        curr = prev\n",
        "    dist /= 1000\n",
        "    if plot:\n",
        "        print(f\"Distance: {dist}\")\n",
        "        print(f\"Avg. speed: {sum(speeds)/len(speeds)}\")\n",
        "        print(f\"Total time: {dist/(sum(speeds)/len(speeds)) * 60}\")\n",
        "        plot_graph()"
      ]
    },
    {
      "cell_type": "markdown",
      "metadata": {
        "id": "GZKRN6x9uSce"
      },
      "source": [
        "## Experiment 1"
      ]
    },
    {
      "cell_type": "code",
      "execution_count": null,
      "metadata": {
        "id": "5o8fk0A2uSce"
      },
      "outputs": [],
      "source": [
        "start = random.choice(list(G.nodes))\n",
        "end = random.choice(list(G.nodes))"
      ]
    },
    {
      "cell_type": "code",
      "execution_count": null,
      "metadata": {
        "id": "9GgDb5W8uSce"
      },
      "outputs": [],
      "source": [
        "dijkstra(start, end, plot=True)"
      ]
    },
    {
      "cell_type": "code",
      "execution_count": null,
      "metadata": {
        "id": "93x0X5utuSce"
      },
      "outputs": [],
      "source": [
        "reconstruct_path(start, end, plot=True)"
      ]
    },
    {
      "cell_type": "code",
      "execution_count": null,
      "metadata": {
        "id": "3KdOTc1duScf"
      },
      "outputs": [],
      "source": [
        "a_star(start, end, plot=True)"
      ]
    },
    {
      "cell_type": "code",
      "execution_count": null,
      "metadata": {
        "id": "v-SqwQgpuScf"
      },
      "outputs": [],
      "source": [
        "reconstruct_path(start, end, plot=True)"
      ]
    },
    {
      "cell_type": "markdown",
      "metadata": {
        "id": "LJMVbL5JuScf"
      },
      "source": [
        "## Experiment 2"
      ]
    },
    {
      "cell_type": "code",
      "execution_count": null,
      "metadata": {
        "id": "YiKIq_fKuScf"
      },
      "outputs": [],
      "source": [
        "N = 100 # times to run each algorithm\n",
        "for edge in G.edges:\n",
        "    G.edges[edge][\"dijkstra_uses\"] = 0\n",
        "    G.edges[edge][\"a_star_uses\"] = 0"
      ]
    },
    {
      "cell_type": "code",
      "execution_count": null,
      "metadata": {
        "id": "03oWO2XluScf"
      },
      "outputs": [],
      "source": [
        "for _ in range(N): # (might take a while, depending on N)\n",
        "    start = random.choice(list(G.nodes))\n",
        "    end = random.choice(list(G.nodes))\n",
        "    dijkstra(start, end)\n",
        "    reconstruct_path(start, end, algorithm=\"dijkstra\")\n",
        "    a_star(start, end)\n",
        "    reconstruct_path(start, end, algorithm=\"a_star\")"
      ]
    },
    {
      "cell_type": "code",
      "execution_count": null,
      "metadata": {
        "id": "ciuGkd7JuScg"
      },
      "outputs": [],
      "source": [
        "plot_heatmap(\"dijkstra\")"
      ]
    },
    {
      "cell_type": "code",
      "execution_count": null,
      "metadata": {
        "id": "ylqneRy4uScg"
      },
      "outputs": [],
      "source": [
        "plot_heatmap(\"a_star\")"
      ]
    }
  ],
  "metadata": {
    "kernelspec": {
      "display_name": "santienv",
      "language": "python",
      "name": "python3"
    },
    "language_info": {
      "codemirror_mode": {
        "name": "ipython",
        "version": 3
      },
      "file_extension": ".py",
      "mimetype": "text/x-python",
      "name": "python",
      "nbconvert_exporter": "python",
      "pygments_lexer": "ipython3",
      "version": "3.12.1"
    },
    "colab": {
      "provenance": []
    }
  },
  "nbformat": 4,
  "nbformat_minor": 0
}